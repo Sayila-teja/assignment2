{
 "cells": [
  {
   "cell_type": "code",
   "execution_count": 1,
   "id": "f200a32c",
   "metadata": {},
   "outputs": [
    {
     "name": "stdout",
     "output_type": "stream",
     "text": [
      "Retrieving notices: ...working... DEBUG:urllib3.connectionpool:Starting new HTTPS connection (1): repo.anaconda.com:443\n",
      "DEBUG:urllib3.connectionpool:Starting new HTTPS connection (1): repo.anaconda.com:443\n",
      "DEBUG:urllib3.connectionpool:https://repo.anaconda.com:443 \"GET /pkgs/r/notices.json HTTP/1.1\" 404 None\n",
      "DEBUG:urllib3.connectionpool:https://repo.anaconda.com:443 \"GET /pkgs/main/notices.json HTTP/1.1\" 404 None\n",
      "done\n",
      "Collecting package metadata (current_repodata.json): | DEBUG:urllib3.connectionpool:Starting new HTTPS connection (1): repo.anaconda.com:443\n",
      "DEBUG:urllib3.connectionpool:Starting new HTTPS connection (1): repo.anaconda.com:443\n",
      "DEBUG:urllib3.connectionpool:Starting new HTTPS connection (1): repo.anaconda.com:443\n",
      "DEBUG:urllib3.connectionpool:Starting new HTTPS connection (1): repo.anaconda.com:443\n",
      "/ DEBUG:urllib3.connectionpool:https://repo.anaconda.com:443 \"GET /pkgs/r/noarch/current_repodata.json HTTP/1.1\" 304 0\n",
      "DEBUG:urllib3.connectionpool:https://repo.anaconda.com:443 \"GET /pkgs/main/osx-arm64/current_repodata.json HTTP/1.1\" 200 None\n",
      "- DEBUG:urllib3.connectionpool:https://repo.anaconda.com:443 \"GET /pkgs/main/noarch/current_repodata.json HTTP/1.1\" 200 None\n",
      "DEBUG:urllib3.connectionpool:https://repo.anaconda.com:443 \"GET /pkgs/r/osx-arm64/current_repodata.json HTTP/1.1\" 304 0\n",
      "done\n",
      "Solving environment: done\n",
      "\n",
      "## Package Plan ##\n",
      "\n",
      "  environment location: /Users/teja/anaconda3\n",
      "\n",
      "  added / updated specs:\n",
      "    - numpy\n",
      "\n",
      "\n",
      "The following packages will be downloaded:\n",
      "\n",
      "    package                    |            build\n",
      "    ---------------------------|-----------------\n",
      "    ca-certificates-2023.08.22 |       hca03da5_0         124 KB\n",
      "    ------------------------------------------------------------\n",
      "                                           Total:         124 KB\n",
      "\n",
      "The following packages will be UPDATED:\n",
      "\n",
      "  ca-certificates                     2023.05.30-hca03da5_0 --> 2023.08.22-hca03da5_0 \n",
      "\n",
      "\n",
      "\n",
      "Downloading and Extracting Packages\n",
      "ca-certificates-2023 | 124 KB    |                                       |   0% DEBUG:urllib3.connectionpool:Starting new HTTPS connection (1): repo.anaconda.com:443\n",
      "DEBUG:urllib3.connectionpool:https://repo.anaconda.com:443 \"GET /pkgs/main/osx-arm64/ca-certificates-2023.08.22-hca03da5_0.conda HTTP/1.1\" 200 126588\n",
      "                                                                                \n",
      "Preparing transaction: done\n",
      "Verifying transaction: done\n",
      "Executing transaction: done\n",
      "\n",
      "Note: you may need to restart the kernel to use updated packages.\n"
     ]
    }
   ],
   "source": [
    "conda install numpy"
   ]
  },
  {
   "cell_type": "code",
   "execution_count": 2,
   "id": "cbb78fc6",
   "metadata": {},
   "outputs": [],
   "source": [
    "import numpy as np"
   ]
  },
  {
   "cell_type": "code",
   "execution_count": 3,
   "id": "3c4d9bf0",
   "metadata": {},
   "outputs": [
    {
     "data": {
      "text/plain": [
       "array([1, 2, 3])"
      ]
     },
     "execution_count": 3,
     "metadata": {},
     "output_type": "execute_result"
    }
   ],
   "source": [
    "A=np.array([1,2,3])\n",
    "A"
   ]
  },
  {
   "cell_type": "code",
   "execution_count": 4,
   "id": "d3f5f525",
   "metadata": {},
   "outputs": [
    {
     "data": {
      "text/plain": [
       "array([[1, 2],\n",
       "       [3, 4]])"
      ]
     },
     "execution_count": 4,
     "metadata": {},
     "output_type": "execute_result"
    }
   ],
   "source": [
    "B=np.array([[1,2],[3,4]])\n",
    "B"
   ]
  },
  {
   "cell_type": "code",
   "execution_count": 5,
   "id": "8c5c2f01",
   "metadata": {},
   "outputs": [
    {
     "data": {
      "text/plain": [
       "array([[1, 2, 3],\n",
       "       [4, 5, 6],\n",
       "       [7, 8, 9]])"
      ]
     },
     "execution_count": 5,
     "metadata": {},
     "output_type": "execute_result"
    }
   ],
   "source": [
    "C=np.array([[1,2,3],[4,5,6],[7,8,9]])\n",
    "C"
   ]
  },
  {
   "cell_type": "code",
   "execution_count": 6,
   "id": "3d2d7716",
   "metadata": {},
   "outputs": [
    {
     "data": {
      "text/plain": [
       "array([0., 0., 0., 0., 0., 0., 0., 0., 0., 0.])"
      ]
     },
     "execution_count": 6,
     "metadata": {},
     "output_type": "execute_result"
    }
   ],
   "source": [
    "A1=np.zeros(10)\n",
    "A1"
   ]
  },
  {
   "cell_type": "code",
   "execution_count": 7,
   "id": "6c6f061f",
   "metadata": {},
   "outputs": [
    {
     "data": {
      "text/plain": [
       "array([1., 1., 1., 1., 1., 1., 1., 1., 1., 1.])"
      ]
     },
     "execution_count": 7,
     "metadata": {},
     "output_type": "execute_result"
    }
   ],
   "source": [
    "A2=np.ones(10)\n",
    "A2"
   ]
  },
  {
   "cell_type": "code",
   "execution_count": 8,
   "id": "4ef2ce9b",
   "metadata": {},
   "outputs": [
    {
     "data": {
      "text/plain": [
       "array([ 0,  1,  2,  3,  4,  5,  6,  7,  8,  9, 10])"
      ]
     },
     "execution_count": 8,
     "metadata": {},
     "output_type": "execute_result"
    }
   ],
   "source": [
    "A3=np.arange(11)\n",
    "A3"
   ]
  },
  {
   "cell_type": "code",
   "execution_count": 9,
   "id": "b53162e7",
   "metadata": {},
   "outputs": [
    {
     "data": {
      "text/plain": [
       "array([ 2,  5,  8, 11, 14, 17])"
      ]
     },
     "execution_count": 9,
     "metadata": {},
     "output_type": "execute_result"
    }
   ],
   "source": [
    "A4=np.arange(2,20,3)\n",
    "A4"
   ]
  },
  {
   "cell_type": "markdown",
   "id": "bec2d2ca",
   "metadata": {},
   "source": [
    "A5=np.empty(5)\n",
    "A5"
   ]
  },
  {
   "cell_type": "code",
   "execution_count": 10,
   "id": "1e0cddc9",
   "metadata": {},
   "outputs": [
    {
     "data": {
      "text/plain": [
       "array([ 1.  ,  2.75,  6.  , 10.75, 17.  ])"
      ]
     },
     "execution_count": 10,
     "metadata": {},
     "output_type": "execute_result"
    }
   ],
   "source": [
    "A5=np.empty(5) \n",
    "A5"
   ]
  },
  {
   "cell_type": "code",
   "execution_count": 11,
   "id": "5d2083be",
   "metadata": {},
   "outputs": [
    {
     "data": {
      "text/plain": [
       "array([ 0.,  3.,  6.,  9., 12.])"
      ]
     },
     "execution_count": 11,
     "metadata": {},
     "output_type": "execute_result"
    }
   ],
   "source": [
    "A6=np.linspace(0,12,num=5)\n",
    "A6"
   ]
  },
  {
   "cell_type": "code",
   "execution_count": 12,
   "id": "d839ceca",
   "metadata": {},
   "outputs": [
    {
     "data": {
      "text/plain": [
       "array([ 0.        ,  2.83333333,  5.66666667,  8.5       , 11.33333333,\n",
       "       14.16666667, 17.        ])"
      ]
     },
     "execution_count": 12,
     "metadata": {},
     "output_type": "execute_result"
    }
   ],
   "source": [
    "A7=np.linspace(0,17,num=7)\n",
    "A7"
   ]
  },
  {
   "cell_type": "code",
   "execution_count": 13,
   "id": "affc4f43",
   "metadata": {},
   "outputs": [
    {
     "data": {
      "text/plain": [
       "array([1, 1, 1, 1, 1, 1, 1, 1, 1, 1], dtype=int32)"
      ]
     },
     "execution_count": 13,
     "metadata": {},
     "output_type": "execute_result"
    }
   ],
   "source": [
    "A8=np.ones(10,dtype=np.int32)\n",
    "A8"
   ]
  },
  {
   "cell_type": "code",
   "execution_count": 14,
   "id": "5c9ae605",
   "metadata": {},
   "outputs": [
    {
     "name": "stdout",
     "output_type": "stream",
     "text": [
      "(3, 3)\n"
     ]
    }
   ],
   "source": [
    "print(C.shape)"
   ]
  },
  {
   "cell_type": "code",
   "execution_count": 15,
   "id": "d3d8fc8a",
   "metadata": {},
   "outputs": [
    {
     "name": "stdout",
     "output_type": "stream",
     "text": [
      "9\n"
     ]
    }
   ],
   "source": [
    "print(C.size)\n"
   ]
  },
  {
   "cell_type": "code",
   "execution_count": 16,
   "id": "4666fe49",
   "metadata": {},
   "outputs": [
    {
     "name": "stdout",
     "output_type": "stream",
     "text": [
      "2\n"
     ]
    }
   ],
   "source": [
    "print(C.ndim)"
   ]
  },
  {
   "cell_type": "code",
   "execution_count": 17,
   "id": "56662f34",
   "metadata": {},
   "outputs": [
    {
     "name": "stdout",
     "output_type": "stream",
     "text": [
      "[1 2 3 4 5 6 7 9]\n"
     ]
    }
   ],
   "source": [
    "A9=np.array([2,4,1,3,7,5,9,6])\n",
    "print(np.sort(A9))"
   ]
  },
  {
   "cell_type": "code",
   "execution_count": 18,
   "id": "8ff0909a",
   "metadata": {},
   "outputs": [
    {
     "data": {
      "text/plain": [
       "array([[1, 2, 3],\n",
       "       [4, 5, 6]])"
      ]
     },
     "execution_count": 18,
     "metadata": {},
     "output_type": "execute_result"
    }
   ],
   "source": [
    "a=np.array([[1,2,3]])\n",
    "b=np.array([[4,5,6]])\n",
    "np.concatenate([a,b])"
   ]
  },
  {
   "cell_type": "code",
   "execution_count": 19,
   "id": "13814951",
   "metadata": {},
   "outputs": [
    {
     "name": "stdout",
     "output_type": "stream",
     "text": [
      "[1 2 3 4 5 6]\n",
      "[[1 2 3]\n",
      " [4 5 6]]\n",
      "[[1 2]\n",
      " [3 4]\n",
      " [5 6]]\n",
      "[[1]\n",
      " [2]\n",
      " [3]\n",
      " [4]\n",
      " [5]\n",
      " [6]]\n",
      "[[1 2 3 4 5 6]]\n"
     ]
    }
   ],
   "source": [
    "a=np.array([1,2,3,4,5,6])\n",
    "print(a)\n",
    "b=np.reshape(a,newshape=[2,3])\n",
    "print(b)\n",
    "c=np.reshape(a,newshape=[3,2])\n",
    "print(c)\n",
    "d=np.reshape(a,newshape=[6,1])\n",
    "print(d)\n",
    "e=np.reshape(a,newshape=[1,6])\n",
    "print(e)\n",
    "#f=np.reshape(a,newshape=[2,4])\n",
    "#print(f) #output:error\n"
   ]
  },
  {
   "cell_type": "code",
   "execution_count": 20,
   "id": "9132af00",
   "metadata": {},
   "outputs": [
    {
     "data": {
      "text/plain": [
       "2"
      ]
     },
     "execution_count": 20,
     "metadata": {},
     "output_type": "execute_result"
    }
   ],
   "source": [
    "data=np.array([1,3,5,2,4,8,9,7])\n",
    "data[3]"
   ]
  },
  {
   "cell_type": "code",
   "execution_count": 21,
   "id": "11f7432f",
   "metadata": {},
   "outputs": [
    {
     "data": {
      "text/plain": [
       "array([1, 3, 5])"
      ]
     },
     "execution_count": 21,
     "metadata": {},
     "output_type": "execute_result"
    }
   ],
   "source": [
    "data[0:3]"
   ]
  },
  {
   "cell_type": "code",
   "execution_count": 22,
   "id": "e411429f",
   "metadata": {},
   "outputs": [
    {
     "data": {
      "text/plain": [
       "array([1, 3, 5])"
      ]
     },
     "execution_count": 22,
     "metadata": {},
     "output_type": "execute_result"
    }
   ],
   "source": [
    "data[:3]"
   ]
  },
  {
   "cell_type": "code",
   "execution_count": 23,
   "id": "c6f4ab32",
   "metadata": {},
   "outputs": [
    {
     "data": {
      "text/plain": [
       "array([3, 5, 2, 4, 8, 9, 7])"
      ]
     },
     "execution_count": 23,
     "metadata": {},
     "output_type": "execute_result"
    }
   ],
   "source": [
    "data[1:]"
   ]
  },
  {
   "cell_type": "code",
   "execution_count": 24,
   "id": "d45d15e9",
   "metadata": {},
   "outputs": [
    {
     "data": {
      "text/plain": [
       "9"
      ]
     },
     "execution_count": 24,
     "metadata": {},
     "output_type": "execute_result"
    }
   ],
   "source": [
    "data[-2]"
   ]
  },
  {
   "cell_type": "code",
   "execution_count": 25,
   "id": "5a661504",
   "metadata": {},
   "outputs": [
    {
     "data": {
      "text/plain": [
       "array([7, 9, 8])"
      ]
     },
     "execution_count": 25,
     "metadata": {},
     "output_type": "execute_result"
    }
   ],
   "source": [
    "data[-1:-4:-1]"
   ]
  },
  {
   "cell_type": "code",
   "execution_count": 26,
   "id": "65d4cce8",
   "metadata": {},
   "outputs": [
    {
     "data": {
      "text/plain": [
       "array([7, 9, 8, 4, 2, 5, 3, 1])"
      ]
     },
     "execution_count": 26,
     "metadata": {},
     "output_type": "execute_result"
    }
   ],
   "source": [
    "data[::-1]"
   ]
  },
  {
   "cell_type": "code",
   "execution_count": 27,
   "id": "ed2b9e68",
   "metadata": {},
   "outputs": [
    {
     "name": "stdout",
     "output_type": "stream",
     "text": [
      "[1 2 3 4 5 6]\n",
      "[3 4 5 6]\n",
      "[ 1  2  3  4  5  6  7  8  9 10 11 12]\n",
      "[ 2  4  6  8 10 12]\n"
     ]
    }
   ],
   "source": [
    "a=np.array([[1,2,3,4],[5,6,7,8],[9,10,11,12]])\n",
    "print(a[a<7])\n",
    "a1=a[(a>=3)&(a<7)]\n",
    "print(a1)\n",
    "a2=a[(a>=3)|(a<7)]\n",
    "print(a2)\n",
    "a3=a[a%2==0]\n",
    "print(a3)\n"
   ]
  },
  {
   "cell_type": "code",
   "execution_count": 28,
   "id": "be8865f2",
   "metadata": {},
   "outputs": [],
   "source": [
    "import numpy as np\n",
    "from numpy import linalg as la"
   ]
  },
  {
   "cell_type": "code",
   "execution_count": 29,
   "id": "49f7c8f2",
   "metadata": {},
   "outputs": [
    {
     "data": {
      "text/plain": [
       "array([[ 1,  2,  3],\n",
       "       [ 4,  5,  6],\n",
       "       [ 2, -3,  1]])"
      ]
     },
     "execution_count": 29,
     "metadata": {},
     "output_type": "execute_result"
    }
   ],
   "source": [
    "x=np.array([[1,2,3],[4,5,6],[2,-3,1]])\n",
    "x\n"
   ]
  },
  {
   "cell_type": "code",
   "execution_count": 30,
   "id": "84b65ff8",
   "metadata": {},
   "outputs": [
    {
     "name": "stdout",
     "output_type": "stream",
     "text": [
      "[[ 1  4  2]\n",
      " [ 2  5 -3]\n",
      " [ 3  6  1]]\n"
     ]
    }
   ],
   "source": [
    "print(x.T)"
   ]
  },
  {
   "cell_type": "code",
   "execution_count": 31,
   "id": "911fe7db",
   "metadata": {},
   "outputs": [
    {
     "name": "stdout",
     "output_type": "stream",
     "text": [
      "[[-0.85185185  0.40740741  0.11111111]\n",
      " [-0.2962963   0.18518519 -0.22222222]\n",
      " [ 0.81481481 -0.25925926  0.11111111]]\n"
     ]
    }
   ],
   "source": [
    "print(la.inv(x))"
   ]
  },
  {
   "cell_type": "code",
   "execution_count": 32,
   "id": "af2b6adb",
   "metadata": {},
   "outputs": [
    {
     "name": "stdout",
     "output_type": "stream",
     "text": [
      "[[ -4725  -4887  -6750]\n",
      " [ -8484 -14757 -12984]\n",
      " [ -5360   6922  -5843]]\n"
     ]
    }
   ],
   "source": [
    "print(la.matrix_power(x,6))"
   ]
  },
  {
   "cell_type": "code",
   "execution_count": 33,
   "id": "ab82c2df",
   "metadata": {},
   "outputs": [
    {
     "name": "stdout",
     "output_type": "stream",
     "text": [
      "7\n"
     ]
    }
   ],
   "source": [
    "print(np.trace(x))"
   ]
  },
  {
   "cell_type": "code",
   "execution_count": 34,
   "id": "c52452e2",
   "metadata": {},
   "outputs": [
    {
     "name": "stdout",
     "output_type": "stream",
     "text": [
      "-27.0\n"
     ]
    }
   ],
   "source": [
    "print(la.det(x))"
   ]
  },
  {
   "cell_type": "code",
   "execution_count": 35,
   "id": "8dced3ff",
   "metadata": {},
   "outputs": [
    {
     "name": "stdout",
     "output_type": "stream",
     "text": [
      "[1 5 1]\n"
     ]
    }
   ],
   "source": [
    "print(np.diag(x))"
   ]
  },
  {
   "cell_type": "code",
   "execution_count": 36,
   "id": "3594dcff",
   "metadata": {},
   "outputs": [
    {
     "name": "stdout",
     "output_type": "stream",
     "text": [
      "roots: [-0.37228132  5.37228132]\n",
      "vectors: [[-0.82456484 -0.41597356]\n",
      " [ 0.56576746 -0.90937671]]\n"
     ]
    }
   ],
   "source": [
    "A=np.array([[1,2],[3,4]])\n",
    "x,y=la.eig(A)\n",
    "print(\"roots:\",x)\n",
    "print(\"vectors:\",y)"
   ]
  },
  {
   "cell_type": "code",
   "execution_count": 37,
   "id": "4bb4da52",
   "metadata": {},
   "outputs": [
    {
     "name": "stdout",
     "output_type": "stream",
     "text": [
      "[-0.37228132  5.37228132]\n"
     ]
    }
   ],
   "source": [
    "print(la.eigvals(A))"
   ]
  },
  {
   "cell_type": "code",
   "execution_count": 135,
   "id": "a7a50699",
   "metadata": {},
   "outputs": [],
   "source": [
    "import pandas as pd"
   ]
  },
  {
   "cell_type": "code",
   "execution_count": 39,
   "id": "11609172",
   "metadata": {},
   "outputs": [
    {
     "data": {
      "text/html": [
       "<div>\n",
       "<style scoped>\n",
       "    .dataframe tbody tr th:only-of-type {\n",
       "        vertical-align: middle;\n",
       "    }\n",
       "\n",
       "    .dataframe tbody tr th {\n",
       "        vertical-align: top;\n",
       "    }\n",
       "\n",
       "    .dataframe thead th {\n",
       "        text-align: right;\n",
       "    }\n",
       "</style>\n",
       "<table border=\"1\" class=\"dataframe\">\n",
       "  <thead>\n",
       "    <tr style=\"text-align: right;\">\n",
       "      <th></th>\n",
       "      <th>Age</th>\n",
       "      <th>Sex</th>\n",
       "      <th>BP</th>\n",
       "      <th>Cholesterol</th>\n",
       "      <th>Na_to_K</th>\n",
       "      <th>Drug</th>\n",
       "    </tr>\n",
       "  </thead>\n",
       "  <tbody>\n",
       "    <tr>\n",
       "      <th>0</th>\n",
       "      <td>23</td>\n",
       "      <td>F</td>\n",
       "      <td>HIGH</td>\n",
       "      <td>HIGH</td>\n",
       "      <td>25.355</td>\n",
       "      <td>drugY</td>\n",
       "    </tr>\n",
       "    <tr>\n",
       "      <th>1</th>\n",
       "      <td>47</td>\n",
       "      <td>M</td>\n",
       "      <td>LOW</td>\n",
       "      <td>HIGH</td>\n",
       "      <td>13.093</td>\n",
       "      <td>drugC</td>\n",
       "    </tr>\n",
       "    <tr>\n",
       "      <th>2</th>\n",
       "      <td>47</td>\n",
       "      <td>M</td>\n",
       "      <td>LOW</td>\n",
       "      <td>HIGH</td>\n",
       "      <td>10.114</td>\n",
       "      <td>drugC</td>\n",
       "    </tr>\n",
       "    <tr>\n",
       "      <th>3</th>\n",
       "      <td>28</td>\n",
       "      <td>F</td>\n",
       "      <td>NORMAL</td>\n",
       "      <td>HIGH</td>\n",
       "      <td>7.798</td>\n",
       "      <td>drugX</td>\n",
       "    </tr>\n",
       "    <tr>\n",
       "      <th>4</th>\n",
       "      <td>61</td>\n",
       "      <td>F</td>\n",
       "      <td>LOW</td>\n",
       "      <td>HIGH</td>\n",
       "      <td>18.043</td>\n",
       "      <td>drugY</td>\n",
       "    </tr>\n",
       "    <tr>\n",
       "      <th>...</th>\n",
       "      <td>...</td>\n",
       "      <td>...</td>\n",
       "      <td>...</td>\n",
       "      <td>...</td>\n",
       "      <td>...</td>\n",
       "      <td>...</td>\n",
       "    </tr>\n",
       "    <tr>\n",
       "      <th>195</th>\n",
       "      <td>56</td>\n",
       "      <td>F</td>\n",
       "      <td>LOW</td>\n",
       "      <td>HIGH</td>\n",
       "      <td>11.567</td>\n",
       "      <td>drugC</td>\n",
       "    </tr>\n",
       "    <tr>\n",
       "      <th>196</th>\n",
       "      <td>16</td>\n",
       "      <td>M</td>\n",
       "      <td>LOW</td>\n",
       "      <td>HIGH</td>\n",
       "      <td>12.006</td>\n",
       "      <td>drugC</td>\n",
       "    </tr>\n",
       "    <tr>\n",
       "      <th>197</th>\n",
       "      <td>52</td>\n",
       "      <td>M</td>\n",
       "      <td>NORMAL</td>\n",
       "      <td>HIGH</td>\n",
       "      <td>9.894</td>\n",
       "      <td>drugX</td>\n",
       "    </tr>\n",
       "    <tr>\n",
       "      <th>198</th>\n",
       "      <td>23</td>\n",
       "      <td>M</td>\n",
       "      <td>NORMAL</td>\n",
       "      <td>NORMAL</td>\n",
       "      <td>14.020</td>\n",
       "      <td>drugX</td>\n",
       "    </tr>\n",
       "    <tr>\n",
       "      <th>199</th>\n",
       "      <td>40</td>\n",
       "      <td>F</td>\n",
       "      <td>LOW</td>\n",
       "      <td>NORMAL</td>\n",
       "      <td>11.349</td>\n",
       "      <td>drugX</td>\n",
       "    </tr>\n",
       "  </tbody>\n",
       "</table>\n",
       "<p>200 rows × 6 columns</p>\n",
       "</div>"
      ],
      "text/plain": [
       "     Age Sex      BP Cholesterol  Na_to_K   Drug\n",
       "0     23   F    HIGH        HIGH   25.355  drugY\n",
       "1     47   M     LOW        HIGH   13.093  drugC\n",
       "2     47   M     LOW        HIGH   10.114  drugC\n",
       "3     28   F  NORMAL        HIGH    7.798  drugX\n",
       "4     61   F     LOW        HIGH   18.043  drugY\n",
       "..   ...  ..     ...         ...      ...    ...\n",
       "195   56   F     LOW        HIGH   11.567  drugC\n",
       "196   16   M     LOW        HIGH   12.006  drugC\n",
       "197   52   M  NORMAL        HIGH    9.894  drugX\n",
       "198   23   M  NORMAL      NORMAL   14.020  drugX\n",
       "199   40   F     LOW      NORMAL   11.349  drugX\n",
       "\n",
       "[200 rows x 6 columns]"
      ]
     },
     "execution_count": 39,
     "metadata": {},
     "output_type": "execute_result"
    }
   ],
   "source": [
    "x=pd.read_csv(r\"/Users/teja/Desktop/4_Drug200.csv\")\n",
    "x"
   ]
  },
  {
   "cell_type": "code",
   "execution_count": 40,
   "id": "d8f1be23",
   "metadata": {},
   "outputs": [
    {
     "name": "stdout",
     "output_type": "stream",
     "text": [
      "              Age     Na_to_K\n",
      "count  200.000000  200.000000\n",
      "mean    44.315000   16.084485\n",
      "std     16.544315    7.223956\n",
      "min     15.000000    6.269000\n",
      "25%     31.000000   10.445500\n",
      "50%     45.000000   13.936500\n",
      "75%     58.000000   19.380000\n",
      "max     74.000000   38.247000\n"
     ]
    }
   ],
   "source": [
    "print(x.describe())"
   ]
  },
  {
   "cell_type": "code",
   "execution_count": 41,
   "id": "705d1bba",
   "metadata": {},
   "outputs": [
    {
     "data": {
      "text/html": [
       "<div>\n",
       "<style scoped>\n",
       "    .dataframe tbody tr th:only-of-type {\n",
       "        vertical-align: middle;\n",
       "    }\n",
       "\n",
       "    .dataframe tbody tr th {\n",
       "        vertical-align: top;\n",
       "    }\n",
       "\n",
       "    .dataframe thead th {\n",
       "        text-align: right;\n",
       "    }\n",
       "</style>\n",
       "<table border=\"1\" class=\"dataframe\">\n",
       "  <thead>\n",
       "    <tr style=\"text-align: right;\">\n",
       "      <th></th>\n",
       "      <th>Age</th>\n",
       "      <th>Na_to_K</th>\n",
       "    </tr>\n",
       "  </thead>\n",
       "  <tbody>\n",
       "    <tr>\n",
       "      <th>0</th>\n",
       "      <td>23</td>\n",
       "      <td>25.355</td>\n",
       "    </tr>\n",
       "    <tr>\n",
       "      <th>1</th>\n",
       "      <td>47</td>\n",
       "      <td>13.093</td>\n",
       "    </tr>\n",
       "    <tr>\n",
       "      <th>2</th>\n",
       "      <td>47</td>\n",
       "      <td>10.114</td>\n",
       "    </tr>\n",
       "    <tr>\n",
       "      <th>3</th>\n",
       "      <td>28</td>\n",
       "      <td>7.798</td>\n",
       "    </tr>\n",
       "    <tr>\n",
       "      <th>4</th>\n",
       "      <td>61</td>\n",
       "      <td>18.043</td>\n",
       "    </tr>\n",
       "    <tr>\n",
       "      <th>...</th>\n",
       "      <td>...</td>\n",
       "      <td>...</td>\n",
       "    </tr>\n",
       "    <tr>\n",
       "      <th>195</th>\n",
       "      <td>56</td>\n",
       "      <td>11.567</td>\n",
       "    </tr>\n",
       "    <tr>\n",
       "      <th>196</th>\n",
       "      <td>16</td>\n",
       "      <td>12.006</td>\n",
       "    </tr>\n",
       "    <tr>\n",
       "      <th>197</th>\n",
       "      <td>52</td>\n",
       "      <td>9.894</td>\n",
       "    </tr>\n",
       "    <tr>\n",
       "      <th>198</th>\n",
       "      <td>23</td>\n",
       "      <td>14.020</td>\n",
       "    </tr>\n",
       "    <tr>\n",
       "      <th>199</th>\n",
       "      <td>40</td>\n",
       "      <td>11.349</td>\n",
       "    </tr>\n",
       "  </tbody>\n",
       "</table>\n",
       "<p>200 rows × 2 columns</p>\n",
       "</div>"
      ],
      "text/plain": [
       "     Age  Na_to_K\n",
       "0     23   25.355\n",
       "1     47   13.093\n",
       "2     47   10.114\n",
       "3     28    7.798\n",
       "4     61   18.043\n",
       "..   ...      ...\n",
       "195   56   11.567\n",
       "196   16   12.006\n",
       "197   52    9.894\n",
       "198   23   14.020\n",
       "199   40   11.349\n",
       "\n",
       "[200 rows x 2 columns]"
      ]
     },
     "execution_count": 41,
     "metadata": {},
     "output_type": "execute_result"
    }
   ],
   "source": [
    "df=x[[\"Age\",\"Na_to_K\"]]\n",
    "df"
   ]
  },
  {
   "cell_type": "code",
   "execution_count": 42,
   "id": "f9cfeba1",
   "metadata": {},
   "outputs": [
    {
     "name": "stdout",
     "output_type": "stream",
     "text": [
      "Age        44.315000\n",
      "Na_to_K    16.084485\n",
      "dtype: float64\n"
     ]
    }
   ],
   "source": [
    "print(df.mean())"
   ]
  },
  {
   "cell_type": "code",
   "execution_count": 43,
   "id": "25aebbf8",
   "metadata": {},
   "outputs": [
    {
     "name": "stdout",
     "output_type": "stream",
     "text": [
      "Age        45.0000\n",
      "Na_to_K    13.9365\n",
      "dtype: float64\n"
     ]
    }
   ],
   "source": [
    "print(df.median())"
   ]
  },
  {
   "cell_type": "code",
   "execution_count": 44,
   "id": "54dce0aa",
   "metadata": {},
   "outputs": [
    {
     "name": "stdout",
     "output_type": "stream",
     "text": [
      "    Age  Na_to_K\n",
      "0  47.0   12.006\n",
      "1   NaN   18.295\n"
     ]
    }
   ],
   "source": [
    "print(df.mode())"
   ]
  },
  {
   "cell_type": "code",
   "execution_count": 45,
   "id": "b3e59301",
   "metadata": {},
   "outputs": [
    {
     "name": "stdout",
     "output_type": "stream",
     "text": [
      "Age                                                         8863\n",
      "Sex            FMMFFFFMMMFFMFFFMMMFMMMFFFMFFMFMMFMMMMFMFFMMFF...\n",
      "BP             HIGHLOWLOWNORMALLOWNORMALNORMALLOWNORMALLOWLOW...\n",
      "Cholesterol    HIGHHIGHHIGHHIGHHIGHHIGHHIGHHIGHHIGHNORMALHIGH...\n",
      "Na_to_K                                                 3216.897\n",
      "Drug           drugYdrugCdrugCdrugXdrugYdrugXdrugYdrugCdrugYd...\n",
      "dtype: object\n"
     ]
    }
   ],
   "source": [
    "\n",
    "print(x.sum())"
   ]
  },
  {
   "cell_type": "code",
   "execution_count": 46,
   "id": "c71b7571",
   "metadata": {},
   "outputs": [
    {
     "name": "stdout",
     "output_type": "stream",
     "text": [
      "      Age                                                Sex  \\\n",
      "0      23                                                  F   \n",
      "1      70                                                 FM   \n",
      "2     117                                                FMM   \n",
      "3     145                                               FMMF   \n",
      "4     206                                              FMMFF   \n",
      "..    ...                                                ...   \n",
      "195  8732  FMMFFFFMMMFFMFFFMMMFMMMFFFMFFMFMMFMMMMFMFFMMFF...   \n",
      "196  8748  FMMFFFFMMMFFMFFFMMMFMMMFFFMFFMFMMFMMMMFMFFMMFF...   \n",
      "197  8800  FMMFFFFMMMFFMFFFMMMFMMMFFFMFFMFMMFMMMMFMFFMMFF...   \n",
      "198  8823  FMMFFFFMMMFFMFFFMMMFMMMFFFMFFMFMMFMMMMFMFFMMFF...   \n",
      "199  8863  FMMFFFFMMMFFMFFFMMMFMMMFFFMFFMFMMFMMMMFMFFMMFF...   \n",
      "\n",
      "                                                    BP  \\\n",
      "0                                                 HIGH   \n",
      "1                                              HIGHLOW   \n",
      "2                                           HIGHLOWLOW   \n",
      "3                                     HIGHLOWLOWNORMAL   \n",
      "4                                  HIGHLOWLOWNORMALLOW   \n",
      "..                                                 ...   \n",
      "195  HIGHLOWLOWNORMALLOWNORMALNORMALLOWNORMALLOWLOW...   \n",
      "196  HIGHLOWLOWNORMALLOWNORMALNORMALLOWNORMALLOWLOW...   \n",
      "197  HIGHLOWLOWNORMALLOWNORMALNORMALLOWNORMALLOWLOW...   \n",
      "198  HIGHLOWLOWNORMALLOWNORMALNORMALLOWNORMALLOWLOW...   \n",
      "199  HIGHLOWLOWNORMALLOWNORMALNORMALLOWNORMALLOWLOW...   \n",
      "\n",
      "                                           Cholesterol   Na_to_K  \\\n",
      "0                                                 HIGH    25.355   \n",
      "1                                             HIGHHIGH    38.448   \n",
      "2                                         HIGHHIGHHIGH    48.562   \n",
      "3                                     HIGHHIGHHIGHHIGH    56.360   \n",
      "4                                 HIGHHIGHHIGHHIGHHIGH    74.403   \n",
      "..                                                 ...       ...   \n",
      "195  HIGHHIGHHIGHHIGHHIGHHIGHHIGHHIGHHIGHNORMALHIGH...  3169.628   \n",
      "196  HIGHHIGHHIGHHIGHHIGHHIGHHIGHHIGHHIGHNORMALHIGH...  3181.634   \n",
      "197  HIGHHIGHHIGHHIGHHIGHHIGHHIGHHIGHHIGHNORMALHIGH...  3191.528   \n",
      "198  HIGHHIGHHIGHHIGHHIGHHIGHHIGHHIGHHIGHNORMALHIGH...  3205.548   \n",
      "199  HIGHHIGHHIGHHIGHHIGHHIGHHIGHHIGHHIGHNORMALHIGH...  3216.897   \n",
      "\n",
      "                                                  Drug  \n",
      "0                                                drugY  \n",
      "1                                           drugYdrugC  \n",
      "2                                      drugYdrugCdrugC  \n",
      "3                                 drugYdrugCdrugCdrugX  \n",
      "4                            drugYdrugCdrugCdrugXdrugY  \n",
      "..                                                 ...  \n",
      "195  drugYdrugCdrugCdrugXdrugYdrugXdrugYdrugCdrugYd...  \n",
      "196  drugYdrugCdrugCdrugXdrugYdrugXdrugYdrugCdrugYd...  \n",
      "197  drugYdrugCdrugCdrugXdrugYdrugXdrugYdrugCdrugYd...  \n",
      "198  drugYdrugCdrugCdrugXdrugYdrugXdrugYdrugCdrugYd...  \n",
      "199  drugYdrugCdrugCdrugXdrugYdrugXdrugYdrugCdrugYd...  \n",
      "\n",
      "[200 rows x 6 columns]\n"
     ]
    }
   ],
   "source": [
    "print(x.cumsum())"
   ]
  },
  {
   "cell_type": "code",
   "execution_count": 47,
   "id": "bc354248",
   "metadata": {},
   "outputs": [
    {
     "name": "stdout",
     "output_type": "stream",
     "text": [
      "Age            200\n",
      "Sex            200\n",
      "BP             200\n",
      "Cholesterol    200\n",
      "Na_to_K        200\n",
      "Drug           200\n",
      "dtype: int64\n"
     ]
    }
   ],
   "source": [
    "print(x.count())"
   ]
  },
  {
   "cell_type": "code",
   "execution_count": 48,
   "id": "1ef19f3b",
   "metadata": {},
   "outputs": [
    {
     "name": "stdout",
     "output_type": "stream",
     "text": [
      "Age               15\n",
      "Sex                F\n",
      "BP              HIGH\n",
      "Cholesterol     HIGH\n",
      "Na_to_K        6.269\n",
      "Drug           drugA\n",
      "dtype: object\n"
     ]
    }
   ],
   "source": [
    "print(x.min())"
   ]
  },
  {
   "cell_type": "code",
   "execution_count": 49,
   "id": "40591cd4",
   "metadata": {},
   "outputs": [
    {
     "name": "stdout",
     "output_type": "stream",
     "text": [
      "Age                74\n",
      "Sex                 M\n",
      "BP             NORMAL\n",
      "Cholesterol    NORMAL\n",
      "Na_to_K        38.247\n",
      "Drug            drugY\n",
      "dtype: object\n"
     ]
    }
   ],
   "source": [
    "print(x.max())"
   ]
  },
  {
   "cell_type": "code",
   "execution_count": 50,
   "id": "783c83c7",
   "metadata": {
    "scrolled": true
   },
   "outputs": [
    {
     "name": "stdout",
     "output_type": "stream",
     "text": [
      "[[  2.7730125 -39.9254925 -43.433265  ... -49.579815  -10.57395\n",
      "  -33.7365525]\n",
      " [-39.9254925 574.8423245 625.346801  ... 713.844071  152.24243\n",
      "  485.7347285]\n",
      " [-43.433265  625.346801  680.288498  ... 776.560958  165.61814\n",
      "  528.410393 ]\n",
      " ...\n",
      " [-49.579815  713.844071  776.560958  ... 886.457618  189.05594\n",
      "  603.189503 ]\n",
      " [-10.57395   152.24243   165.61814   ... 189.05594    40.3202\n",
      "  128.64299  ]\n",
      " [-33.7365525 485.7347285 528.410393  ... 603.189503  128.64299\n",
      "  410.4399005]]\n"
     ]
    }
   ],
   "source": [
    "from numpy import cov\n",
    "covariance=cov(df)\n",
    "print(covariance)"
   ]
  },
  {
   "cell_type": "code",
   "execution_count": 51,
   "id": "967766b3",
   "metadata": {},
   "outputs": [
    {
     "name": "stdout",
     "output_type": "stream",
     "text": [
      "Requirement already satisfied: scipy in ./anaconda3/lib/python3.11/site-packages (1.10.1)\n",
      "Requirement already satisfied: numpy<1.27.0,>=1.19.5 in ./anaconda3/lib/python3.11/site-packages (from scipy) (1.24.3)\n",
      "Note: you may need to restart the kernel to use updated packages.\n"
     ]
    }
   ],
   "source": [
    "pip install scipy"
   ]
  },
  {
   "cell_type": "code",
   "execution_count": 53,
   "id": "87c3f2e8",
   "metadata": {},
   "outputs": [
    {
     "name": "stdout",
     "output_type": "stream",
     "text": [
      "PearsonRResult(statistic=-0.06311949726772592, pvalue=0.3745756399034278)\n"
     ]
    }
   ],
   "source": [
    "from scipy.stats import pearsonr\n",
    "#data1=x[[\"Age\",\"Na_to_K\"]]\n",
    "corr=pearsonr(x[\"Age\"],x[\"Na_to_K\"])\n",
    "print(corr)"
   ]
  },
  {
   "cell_type": "code",
   "execution_count": 54,
   "id": "389ba6a2",
   "metadata": {},
   "outputs": [
    {
     "name": "stdout",
     "output_type": "stream",
     "text": [
      "-0.047273882688479915\n"
     ]
    }
   ],
   "source": [
    "from scipy.stats import spearmanr\n",
    "data1=x[[\"Age\",\"Na_to_K\"]]\n",
    "corr,_=spearmanr(data1)\n",
    "print(corr)"
   ]
  },
  {
   "cell_type": "code",
   "execution_count": 55,
   "id": "dcc413f0",
   "metadata": {},
   "outputs": [
    {
     "data": {
      "text/html": [
       "<div>\n",
       "<style scoped>\n",
       "    .dataframe tbody tr th:only-of-type {\n",
       "        vertical-align: middle;\n",
       "    }\n",
       "\n",
       "    .dataframe tbody tr th {\n",
       "        vertical-align: top;\n",
       "    }\n",
       "\n",
       "    .dataframe thead th {\n",
       "        text-align: right;\n",
       "    }\n",
       "</style>\n",
       "<table border=\"1\" class=\"dataframe\">\n",
       "  <thead>\n",
       "    <tr style=\"text-align: right;\">\n",
       "      <th></th>\n",
       "      <th>Country</th>\n",
       "      <th>Region</th>\n",
       "      <th>Happiness Rank</th>\n",
       "      <th>Happiness Score</th>\n",
       "      <th>Standard Error</th>\n",
       "      <th>Economy (GDP per Capita)</th>\n",
       "      <th>Family</th>\n",
       "      <th>Health (Life Expectancy)</th>\n",
       "      <th>Freedom</th>\n",
       "      <th>Trust (Government Corruption)</th>\n",
       "      <th>Generosity</th>\n",
       "      <th>Dystopia Residual</th>\n",
       "    </tr>\n",
       "  </thead>\n",
       "  <tbody>\n",
       "    <tr>\n",
       "      <th>0</th>\n",
       "      <td>Switzerland</td>\n",
       "      <td>Western Europe</td>\n",
       "      <td>1</td>\n",
       "      <td>7.587</td>\n",
       "      <td>0.03411</td>\n",
       "      <td>1.39651</td>\n",
       "      <td>1.34951</td>\n",
       "      <td>0.94143</td>\n",
       "      <td>0.66557</td>\n",
       "      <td>0.41978</td>\n",
       "      <td>0.29678</td>\n",
       "      <td>2.51738</td>\n",
       "    </tr>\n",
       "    <tr>\n",
       "      <th>1</th>\n",
       "      <td>Iceland</td>\n",
       "      <td>Western Europe</td>\n",
       "      <td>2</td>\n",
       "      <td>7.561</td>\n",
       "      <td>0.04884</td>\n",
       "      <td>1.30232</td>\n",
       "      <td>1.40223</td>\n",
       "      <td>0.94784</td>\n",
       "      <td>0.62877</td>\n",
       "      <td>0.14145</td>\n",
       "      <td>0.43630</td>\n",
       "      <td>2.70201</td>\n",
       "    </tr>\n",
       "    <tr>\n",
       "      <th>2</th>\n",
       "      <td>Denmark</td>\n",
       "      <td>Western Europe</td>\n",
       "      <td>3</td>\n",
       "      <td>7.527</td>\n",
       "      <td>0.03328</td>\n",
       "      <td>1.32548</td>\n",
       "      <td>1.36058</td>\n",
       "      <td>0.87464</td>\n",
       "      <td>0.64938</td>\n",
       "      <td>0.48357</td>\n",
       "      <td>0.34139</td>\n",
       "      <td>2.49204</td>\n",
       "    </tr>\n",
       "    <tr>\n",
       "      <th>3</th>\n",
       "      <td>Norway</td>\n",
       "      <td>Western Europe</td>\n",
       "      <td>4</td>\n",
       "      <td>7.522</td>\n",
       "      <td>0.03880</td>\n",
       "      <td>1.45900</td>\n",
       "      <td>1.33095</td>\n",
       "      <td>0.88521</td>\n",
       "      <td>0.66973</td>\n",
       "      <td>0.36503</td>\n",
       "      <td>0.34699</td>\n",
       "      <td>2.46531</td>\n",
       "    </tr>\n",
       "    <tr>\n",
       "      <th>4</th>\n",
       "      <td>Canada</td>\n",
       "      <td>North America</td>\n",
       "      <td>5</td>\n",
       "      <td>7.427</td>\n",
       "      <td>0.03553</td>\n",
       "      <td>1.32629</td>\n",
       "      <td>1.32261</td>\n",
       "      <td>0.90563</td>\n",
       "      <td>0.63297</td>\n",
       "      <td>0.32957</td>\n",
       "      <td>0.45811</td>\n",
       "      <td>2.45176</td>\n",
       "    </tr>\n",
       "    <tr>\n",
       "      <th>...</th>\n",
       "      <td>...</td>\n",
       "      <td>...</td>\n",
       "      <td>...</td>\n",
       "      <td>...</td>\n",
       "      <td>...</td>\n",
       "      <td>...</td>\n",
       "      <td>...</td>\n",
       "      <td>...</td>\n",
       "      <td>...</td>\n",
       "      <td>...</td>\n",
       "      <td>...</td>\n",
       "      <td>...</td>\n",
       "    </tr>\n",
       "    <tr>\n",
       "      <th>153</th>\n",
       "      <td>Rwanda</td>\n",
       "      <td>Sub-Saharan Africa</td>\n",
       "      <td>154</td>\n",
       "      <td>3.465</td>\n",
       "      <td>0.03464</td>\n",
       "      <td>0.22208</td>\n",
       "      <td>0.77370</td>\n",
       "      <td>0.42864</td>\n",
       "      <td>0.59201</td>\n",
       "      <td>0.55191</td>\n",
       "      <td>0.22628</td>\n",
       "      <td>0.67042</td>\n",
       "    </tr>\n",
       "    <tr>\n",
       "      <th>154</th>\n",
       "      <td>Benin</td>\n",
       "      <td>Sub-Saharan Africa</td>\n",
       "      <td>155</td>\n",
       "      <td>3.340</td>\n",
       "      <td>0.03656</td>\n",
       "      <td>0.28665</td>\n",
       "      <td>0.35386</td>\n",
       "      <td>0.31910</td>\n",
       "      <td>0.48450</td>\n",
       "      <td>0.08010</td>\n",
       "      <td>0.18260</td>\n",
       "      <td>1.63328</td>\n",
       "    </tr>\n",
       "    <tr>\n",
       "      <th>155</th>\n",
       "      <td>Syria</td>\n",
       "      <td>Middle East and Northern Africa</td>\n",
       "      <td>156</td>\n",
       "      <td>3.006</td>\n",
       "      <td>0.05015</td>\n",
       "      <td>0.66320</td>\n",
       "      <td>0.47489</td>\n",
       "      <td>0.72193</td>\n",
       "      <td>0.15684</td>\n",
       "      <td>0.18906</td>\n",
       "      <td>0.47179</td>\n",
       "      <td>0.32858</td>\n",
       "    </tr>\n",
       "    <tr>\n",
       "      <th>156</th>\n",
       "      <td>Burundi</td>\n",
       "      <td>Sub-Saharan Africa</td>\n",
       "      <td>157</td>\n",
       "      <td>2.905</td>\n",
       "      <td>0.08658</td>\n",
       "      <td>0.01530</td>\n",
       "      <td>0.41587</td>\n",
       "      <td>0.22396</td>\n",
       "      <td>0.11850</td>\n",
       "      <td>0.10062</td>\n",
       "      <td>0.19727</td>\n",
       "      <td>1.83302</td>\n",
       "    </tr>\n",
       "    <tr>\n",
       "      <th>157</th>\n",
       "      <td>Togo</td>\n",
       "      <td>Sub-Saharan Africa</td>\n",
       "      <td>158</td>\n",
       "      <td>2.839</td>\n",
       "      <td>0.06727</td>\n",
       "      <td>0.20868</td>\n",
       "      <td>0.13995</td>\n",
       "      <td>0.28443</td>\n",
       "      <td>0.36453</td>\n",
       "      <td>0.10731</td>\n",
       "      <td>0.16681</td>\n",
       "      <td>1.56726</td>\n",
       "    </tr>\n",
       "  </tbody>\n",
       "</table>\n",
       "<p>158 rows × 12 columns</p>\n",
       "</div>"
      ],
      "text/plain": [
       "         Country                           Region  Happiness Rank  \\\n",
       "0    Switzerland                   Western Europe               1   \n",
       "1        Iceland                   Western Europe               2   \n",
       "2        Denmark                   Western Europe               3   \n",
       "3         Norway                   Western Europe               4   \n",
       "4         Canada                    North America               5   \n",
       "..           ...                              ...             ...   \n",
       "153       Rwanda               Sub-Saharan Africa             154   \n",
       "154        Benin               Sub-Saharan Africa             155   \n",
       "155        Syria  Middle East and Northern Africa             156   \n",
       "156      Burundi               Sub-Saharan Africa             157   \n",
       "157         Togo               Sub-Saharan Africa             158   \n",
       "\n",
       "     Happiness Score  Standard Error  Economy (GDP per Capita)   Family  \\\n",
       "0              7.587         0.03411                   1.39651  1.34951   \n",
       "1              7.561         0.04884                   1.30232  1.40223   \n",
       "2              7.527         0.03328                   1.32548  1.36058   \n",
       "3              7.522         0.03880                   1.45900  1.33095   \n",
       "4              7.427         0.03553                   1.32629  1.32261   \n",
       "..               ...             ...                       ...      ...   \n",
       "153            3.465         0.03464                   0.22208  0.77370   \n",
       "154            3.340         0.03656                   0.28665  0.35386   \n",
       "155            3.006         0.05015                   0.66320  0.47489   \n",
       "156            2.905         0.08658                   0.01530  0.41587   \n",
       "157            2.839         0.06727                   0.20868  0.13995   \n",
       "\n",
       "     Health (Life Expectancy)  Freedom  Trust (Government Corruption)  \\\n",
       "0                     0.94143  0.66557                        0.41978   \n",
       "1                     0.94784  0.62877                        0.14145   \n",
       "2                     0.87464  0.64938                        0.48357   \n",
       "3                     0.88521  0.66973                        0.36503   \n",
       "4                     0.90563  0.63297                        0.32957   \n",
       "..                        ...      ...                            ...   \n",
       "153                   0.42864  0.59201                        0.55191   \n",
       "154                   0.31910  0.48450                        0.08010   \n",
       "155                   0.72193  0.15684                        0.18906   \n",
       "156                   0.22396  0.11850                        0.10062   \n",
       "157                   0.28443  0.36453                        0.10731   \n",
       "\n",
       "     Generosity  Dystopia Residual  \n",
       "0       0.29678            2.51738  \n",
       "1       0.43630            2.70201  \n",
       "2       0.34139            2.49204  \n",
       "3       0.34699            2.46531  \n",
       "4       0.45811            2.45176  \n",
       "..          ...                ...  \n",
       "153     0.22628            0.67042  \n",
       "154     0.18260            1.63328  \n",
       "155     0.47179            0.32858  \n",
       "156     0.19727            1.83302  \n",
       "157     0.16681            1.56726  \n",
       "\n",
       "[158 rows x 12 columns]"
      ]
     },
     "execution_count": 55,
     "metadata": {},
     "output_type": "execute_result"
    }
   ],
   "source": [
    "y=pd.read_csv(\"/Users/teja/Desktop/1_2015.csv\")\n",
    "y"
   ]
  },
  {
   "cell_type": "code",
   "execution_count": 56,
   "id": "87947d66",
   "metadata": {},
   "outputs": [
    {
     "name": "stdout",
     "output_type": "stream",
     "text": [
      "       Happiness Rank  Happiness Score  Standard Error  \\\n",
      "count      158.000000       158.000000      158.000000   \n",
      "mean        79.493671         5.375734        0.047885   \n",
      "std         45.754363         1.145010        0.017146   \n",
      "min          1.000000         2.839000        0.018480   \n",
      "25%         40.250000         4.526000        0.037268   \n",
      "50%         79.500000         5.232500        0.043940   \n",
      "75%        118.750000         6.243750        0.052300   \n",
      "max        158.000000         7.587000        0.136930   \n",
      "\n",
      "       Economy (GDP per Capita)      Family  Health (Life Expectancy)  \\\n",
      "count                158.000000  158.000000                158.000000   \n",
      "mean                   0.846137    0.991046                  0.630259   \n",
      "std                    0.403121    0.272369                  0.247078   \n",
      "min                    0.000000    0.000000                  0.000000   \n",
      "25%                    0.545808    0.856823                  0.439185   \n",
      "50%                    0.910245    1.029510                  0.696705   \n",
      "75%                    1.158448    1.214405                  0.811013   \n",
      "max                    1.690420    1.402230                  1.025250   \n",
      "\n",
      "          Freedom  Trust (Government Corruption)  Generosity  \\\n",
      "count  158.000000                     158.000000  158.000000   \n",
      "mean     0.428615                       0.143422    0.237296   \n",
      "std      0.150693                       0.120034    0.126685   \n",
      "min      0.000000                       0.000000    0.000000   \n",
      "25%      0.328330                       0.061675    0.150553   \n",
      "50%      0.435515                       0.107220    0.216130   \n",
      "75%      0.549092                       0.180255    0.309883   \n",
      "max      0.669730                       0.551910    0.795880   \n",
      "\n",
      "       Dystopia Residual  \n",
      "count         158.000000  \n",
      "mean            2.098977  \n",
      "std             0.553550  \n",
      "min             0.328580  \n",
      "25%             1.759410  \n",
      "50%             2.095415  \n",
      "75%             2.462415  \n",
      "max             3.602140  \n"
     ]
    }
   ],
   "source": [
    "print(y.describe())"
   ]
  },
  {
   "cell_type": "code",
   "execution_count": 57,
   "id": "ec876a93",
   "metadata": {},
   "outputs": [
    {
     "data": {
      "text/html": [
       "<div>\n",
       "<style scoped>\n",
       "    .dataframe tbody tr th:only-of-type {\n",
       "        vertical-align: middle;\n",
       "    }\n",
       "\n",
       "    .dataframe tbody tr th {\n",
       "        vertical-align: top;\n",
       "    }\n",
       "\n",
       "    .dataframe thead th {\n",
       "        text-align: right;\n",
       "    }\n",
       "</style>\n",
       "<table border=\"1\" class=\"dataframe\">\n",
       "  <thead>\n",
       "    <tr style=\"text-align: right;\">\n",
       "      <th></th>\n",
       "      <th>Happiness Rank</th>\n",
       "      <th>Happiness Score</th>\n",
       "      <th>Standard Error</th>\n",
       "      <th>Economy (GDP per Capita)</th>\n",
       "      <th>Family</th>\n",
       "      <th>Health (Life Expectancy)</th>\n",
       "      <th>Freedom</th>\n",
       "      <th>Trust (Government Corruption)</th>\n",
       "      <th>Generosity</th>\n",
       "      <th>Dystopia Residual</th>\n",
       "    </tr>\n",
       "  </thead>\n",
       "  <tbody>\n",
       "    <tr>\n",
       "      <th>0</th>\n",
       "      <td>1</td>\n",
       "      <td>7.587</td>\n",
       "      <td>0.03411</td>\n",
       "      <td>1.39651</td>\n",
       "      <td>1.34951</td>\n",
       "      <td>0.94143</td>\n",
       "      <td>0.66557</td>\n",
       "      <td>0.41978</td>\n",
       "      <td>0.29678</td>\n",
       "      <td>2.51738</td>\n",
       "    </tr>\n",
       "    <tr>\n",
       "      <th>1</th>\n",
       "      <td>2</td>\n",
       "      <td>7.561</td>\n",
       "      <td>0.04884</td>\n",
       "      <td>1.30232</td>\n",
       "      <td>1.40223</td>\n",
       "      <td>0.94784</td>\n",
       "      <td>0.62877</td>\n",
       "      <td>0.14145</td>\n",
       "      <td>0.43630</td>\n",
       "      <td>2.70201</td>\n",
       "    </tr>\n",
       "    <tr>\n",
       "      <th>2</th>\n",
       "      <td>3</td>\n",
       "      <td>7.527</td>\n",
       "      <td>0.03328</td>\n",
       "      <td>1.32548</td>\n",
       "      <td>1.36058</td>\n",
       "      <td>0.87464</td>\n",
       "      <td>0.64938</td>\n",
       "      <td>0.48357</td>\n",
       "      <td>0.34139</td>\n",
       "      <td>2.49204</td>\n",
       "    </tr>\n",
       "    <tr>\n",
       "      <th>3</th>\n",
       "      <td>4</td>\n",
       "      <td>7.522</td>\n",
       "      <td>0.03880</td>\n",
       "      <td>1.45900</td>\n",
       "      <td>1.33095</td>\n",
       "      <td>0.88521</td>\n",
       "      <td>0.66973</td>\n",
       "      <td>0.36503</td>\n",
       "      <td>0.34699</td>\n",
       "      <td>2.46531</td>\n",
       "    </tr>\n",
       "    <tr>\n",
       "      <th>4</th>\n",
       "      <td>5</td>\n",
       "      <td>7.427</td>\n",
       "      <td>0.03553</td>\n",
       "      <td>1.32629</td>\n",
       "      <td>1.32261</td>\n",
       "      <td>0.90563</td>\n",
       "      <td>0.63297</td>\n",
       "      <td>0.32957</td>\n",
       "      <td>0.45811</td>\n",
       "      <td>2.45176</td>\n",
       "    </tr>\n",
       "    <tr>\n",
       "      <th>...</th>\n",
       "      <td>...</td>\n",
       "      <td>...</td>\n",
       "      <td>...</td>\n",
       "      <td>...</td>\n",
       "      <td>...</td>\n",
       "      <td>...</td>\n",
       "      <td>...</td>\n",
       "      <td>...</td>\n",
       "      <td>...</td>\n",
       "      <td>...</td>\n",
       "    </tr>\n",
       "    <tr>\n",
       "      <th>153</th>\n",
       "      <td>154</td>\n",
       "      <td>3.465</td>\n",
       "      <td>0.03464</td>\n",
       "      <td>0.22208</td>\n",
       "      <td>0.77370</td>\n",
       "      <td>0.42864</td>\n",
       "      <td>0.59201</td>\n",
       "      <td>0.55191</td>\n",
       "      <td>0.22628</td>\n",
       "      <td>0.67042</td>\n",
       "    </tr>\n",
       "    <tr>\n",
       "      <th>154</th>\n",
       "      <td>155</td>\n",
       "      <td>3.340</td>\n",
       "      <td>0.03656</td>\n",
       "      <td>0.28665</td>\n",
       "      <td>0.35386</td>\n",
       "      <td>0.31910</td>\n",
       "      <td>0.48450</td>\n",
       "      <td>0.08010</td>\n",
       "      <td>0.18260</td>\n",
       "      <td>1.63328</td>\n",
       "    </tr>\n",
       "    <tr>\n",
       "      <th>155</th>\n",
       "      <td>156</td>\n",
       "      <td>3.006</td>\n",
       "      <td>0.05015</td>\n",
       "      <td>0.66320</td>\n",
       "      <td>0.47489</td>\n",
       "      <td>0.72193</td>\n",
       "      <td>0.15684</td>\n",
       "      <td>0.18906</td>\n",
       "      <td>0.47179</td>\n",
       "      <td>0.32858</td>\n",
       "    </tr>\n",
       "    <tr>\n",
       "      <th>156</th>\n",
       "      <td>157</td>\n",
       "      <td>2.905</td>\n",
       "      <td>0.08658</td>\n",
       "      <td>0.01530</td>\n",
       "      <td>0.41587</td>\n",
       "      <td>0.22396</td>\n",
       "      <td>0.11850</td>\n",
       "      <td>0.10062</td>\n",
       "      <td>0.19727</td>\n",
       "      <td>1.83302</td>\n",
       "    </tr>\n",
       "    <tr>\n",
       "      <th>157</th>\n",
       "      <td>158</td>\n",
       "      <td>2.839</td>\n",
       "      <td>0.06727</td>\n",
       "      <td>0.20868</td>\n",
       "      <td>0.13995</td>\n",
       "      <td>0.28443</td>\n",
       "      <td>0.36453</td>\n",
       "      <td>0.10731</td>\n",
       "      <td>0.16681</td>\n",
       "      <td>1.56726</td>\n",
       "    </tr>\n",
       "  </tbody>\n",
       "</table>\n",
       "<p>158 rows × 10 columns</p>\n",
       "</div>"
      ],
      "text/plain": [
       "     Happiness Rank  Happiness Score  Standard Error  \\\n",
       "0                 1            7.587         0.03411   \n",
       "1                 2            7.561         0.04884   \n",
       "2                 3            7.527         0.03328   \n",
       "3                 4            7.522         0.03880   \n",
       "4                 5            7.427         0.03553   \n",
       "..              ...              ...             ...   \n",
       "153             154            3.465         0.03464   \n",
       "154             155            3.340         0.03656   \n",
       "155             156            3.006         0.05015   \n",
       "156             157            2.905         0.08658   \n",
       "157             158            2.839         0.06727   \n",
       "\n",
       "     Economy (GDP per Capita)   Family  Health (Life Expectancy)  Freedom  \\\n",
       "0                     1.39651  1.34951                   0.94143  0.66557   \n",
       "1                     1.30232  1.40223                   0.94784  0.62877   \n",
       "2                     1.32548  1.36058                   0.87464  0.64938   \n",
       "3                     1.45900  1.33095                   0.88521  0.66973   \n",
       "4                     1.32629  1.32261                   0.90563  0.63297   \n",
       "..                        ...      ...                       ...      ...   \n",
       "153                   0.22208  0.77370                   0.42864  0.59201   \n",
       "154                   0.28665  0.35386                   0.31910  0.48450   \n",
       "155                   0.66320  0.47489                   0.72193  0.15684   \n",
       "156                   0.01530  0.41587                   0.22396  0.11850   \n",
       "157                   0.20868  0.13995                   0.28443  0.36453   \n",
       "\n",
       "     Trust (Government Corruption)  Generosity  Dystopia Residual  \n",
       "0                          0.41978     0.29678            2.51738  \n",
       "1                          0.14145     0.43630            2.70201  \n",
       "2                          0.48357     0.34139            2.49204  \n",
       "3                          0.36503     0.34699            2.46531  \n",
       "4                          0.32957     0.45811            2.45176  \n",
       "..                             ...         ...                ...  \n",
       "153                        0.55191     0.22628            0.67042  \n",
       "154                        0.08010     0.18260            1.63328  \n",
       "155                        0.18906     0.47179            0.32858  \n",
       "156                        0.10062     0.19727            1.83302  \n",
       "157                        0.10731     0.16681            1.56726  \n",
       "\n",
       "[158 rows x 10 columns]"
      ]
     },
     "execution_count": 57,
     "metadata": {},
     "output_type": "execute_result"
    }
   ],
   "source": [
    "df1=y[[\"Happiness Rank\",\"Happiness Score\",\"Standard Error\",\"Economy (GDP per Capita)\",\"Family\",\"Health (Life Expectancy)\",\"Freedom\",\"Trust (Government Corruption)\",\"Generosity\",\"Dystopia Residual\"]]\n",
    "df1"
   ]
  },
  {
   "cell_type": "code",
   "execution_count": 58,
   "id": "bf179011",
   "metadata": {},
   "outputs": [
    {
     "name": "stdout",
     "output_type": "stream",
     "text": [
      "Happiness Rank                   79.493671\n",
      "Happiness Score                   5.375734\n",
      "Standard Error                    0.047885\n",
      "Economy (GDP per Capita)          0.846137\n",
      "Family                            0.991046\n",
      "Health (Life Expectancy)          0.630259\n",
      "Freedom                           0.428615\n",
      "Trust (Government Corruption)     0.143422\n",
      "Generosity                        0.237296\n",
      "Dystopia Residual                 2.098977\n",
      "dtype: float64\n"
     ]
    }
   ],
   "source": [
    "print(df1.mean())"
   ]
  },
  {
   "cell_type": "code",
   "execution_count": 59,
   "id": "f6e5e5f0",
   "metadata": {},
   "outputs": [
    {
     "name": "stdout",
     "output_type": "stream",
     "text": [
      "Happiness Rank                   79.500000\n",
      "Happiness Score                   5.232500\n",
      "Standard Error                    0.043940\n",
      "Economy (GDP per Capita)          0.910245\n",
      "Family                            1.029510\n",
      "Health (Life Expectancy)          0.696705\n",
      "Freedom                           0.435515\n",
      "Trust (Government Corruption)     0.107220\n",
      "Generosity                        0.216130\n",
      "Dystopia Residual                 2.095415\n",
      "dtype: float64\n"
     ]
    }
   ],
   "source": [
    "print(df1.median())"
   ]
  },
  {
   "cell_type": "code",
   "execution_count": 60,
   "id": "a7d328f6",
   "metadata": {},
   "outputs": [
    {
     "name": "stdout",
     "output_type": "stream",
     "text": [
      "     Happiness Rank  Happiness Score  Standard Error  \\\n",
      "0              82.0            5.192         0.03751   \n",
      "1               NaN              NaN         0.03780   \n",
      "2               NaN              NaN         0.04394   \n",
      "3               NaN              NaN         0.04934   \n",
      "4               NaN              NaN         0.05051   \n",
      "..              ...              ...             ...   \n",
      "153             NaN              NaN             NaN   \n",
      "154             NaN              NaN             NaN   \n",
      "155             NaN              NaN             NaN   \n",
      "156             NaN              NaN             NaN   \n",
      "157             NaN              NaN             NaN   \n",
      "\n",
      "     Economy (GDP per Capita)   Family  Health (Life Expectancy)  Freedom  \\\n",
      "0                     0.00000  0.00000                   0.92356  0.00000   \n",
      "1                     0.01530  0.13995                       NaN  0.07699   \n",
      "2                     0.01604  0.30285                       NaN  0.09245   \n",
      "3                     0.06940  0.35386                       NaN  0.10081   \n",
      "4                     0.07120  0.38174                       NaN  0.10384   \n",
      "..                        ...      ...                       ...      ...   \n",
      "153                   1.45900  1.34043                       NaN  0.65821   \n",
      "154                   1.52186  1.34951                       NaN  0.65980   \n",
      "155                   1.55422  1.36058                       NaN  0.66246   \n",
      "156                   1.56391  1.36948                       NaN  0.66557   \n",
      "157                   1.69042  1.40223                       NaN  0.66973   \n",
      "\n",
      "     Trust (Government Corruption)  Generosity  Dystopia Residual  \n",
      "0                          0.32524     0.00000            0.32858  \n",
      "1                              NaN     0.00199            0.65429  \n",
      "2                              NaN     0.02641            0.67042  \n",
      "3                              NaN     0.05444            0.67108  \n",
      "4                              NaN     0.05547            0.89991  \n",
      "..                             ...         ...                ...  \n",
      "153                            NaN     0.51535            3.10712  \n",
      "154                            NaN     0.51752            3.17728  \n",
      "155                            NaN     0.51912            3.19131  \n",
      "156                            NaN     0.57630            3.26001  \n",
      "157                            NaN     0.79588            3.60214  \n",
      "\n",
      "[158 rows x 10 columns]\n"
     ]
    }
   ],
   "source": [
    "print(df1.mode())"
   ]
  },
  {
   "cell_type": "code",
   "execution_count": 61,
   "id": "d831cfdc",
   "metadata": {},
   "outputs": [
    {
     "name": "stdout",
     "output_type": "stream",
     "text": [
      "Country                          SwitzerlandIcelandDenmarkNorwayCanadaFinlandNe...\n",
      "Region                           Western EuropeWestern EuropeWestern EuropeWest...\n",
      "Happiness Rank                                                               12560\n",
      "Happiness Score                                                            849.366\n",
      "Standard Error                                                             7.56579\n",
      "Economy (GDP per Capita)                                                 133.68968\n",
      "Family                                                                   156.58526\n",
      "Health (Life Expectancy)                                                  99.58098\n",
      "Freedom                                                                   67.72116\n",
      "Trust (Government Corruption)                                             22.66065\n",
      "Generosity                                                                37.49269\n",
      "Dystopia Residual                                                        331.63833\n",
      "dtype: object\n"
     ]
    }
   ],
   "source": [
    "print(y.sum())"
   ]
  },
  {
   "cell_type": "code",
   "execution_count": 62,
   "id": "49543639",
   "metadata": {},
   "outputs": [
    {
     "name": "stdout",
     "output_type": "stream",
     "text": [
      "                                               Country  \\\n",
      "0                                          Switzerland   \n",
      "1                                   SwitzerlandIceland   \n",
      "2                            SwitzerlandIcelandDenmark   \n",
      "3                      SwitzerlandIcelandDenmarkNorway   \n",
      "4                SwitzerlandIcelandDenmarkNorwayCanada   \n",
      "..                                                 ...   \n",
      "153  SwitzerlandIcelandDenmarkNorwayCanadaFinlandNe...   \n",
      "154  SwitzerlandIcelandDenmarkNorwayCanadaFinlandNe...   \n",
      "155  SwitzerlandIcelandDenmarkNorwayCanadaFinlandNe...   \n",
      "156  SwitzerlandIcelandDenmarkNorwayCanadaFinlandNe...   \n",
      "157  SwitzerlandIcelandDenmarkNorwayCanadaFinlandNe...   \n",
      "\n",
      "                                                Region  Happiness Rank  \\\n",
      "0                                       Western Europe               1   \n",
      "1                         Western EuropeWestern Europe               3   \n",
      "2           Western EuropeWestern EuropeWestern Europe               6   \n",
      "3    Western EuropeWestern EuropeWestern EuropeWest...              10   \n",
      "4    Western EuropeWestern EuropeWestern EuropeWest...              15   \n",
      "..                                                 ...             ...   \n",
      "153  Western EuropeWestern EuropeWestern EuropeWest...           11934   \n",
      "154  Western EuropeWestern EuropeWestern EuropeWest...           12089   \n",
      "155  Western EuropeWestern EuropeWestern EuropeWest...           12245   \n",
      "156  Western EuropeWestern EuropeWestern EuropeWest...           12402   \n",
      "157  Western EuropeWestern EuropeWestern EuropeWest...           12560   \n",
      "\n",
      "     Happiness Score  Standard Error  Economy (GDP per Capita)     Family  \\\n",
      "0              7.587         0.03411                   1.39651    1.34951   \n",
      "1             15.148         0.08295                   2.69883    2.75174   \n",
      "2             22.675         0.11623                   4.02431    4.11232   \n",
      "3             30.197         0.15503                   5.48331    5.44327   \n",
      "4             37.624         0.19056                   6.80960    6.76588   \n",
      "..               ...             ...                       ...        ...   \n",
      "153          837.276         7.32523                 132.51585  155.20069   \n",
      "154          840.616         7.36179                 132.80250  155.55455   \n",
      "155          843.622         7.41194                 133.46570  156.02944   \n",
      "156          846.527         7.49852                 133.48100  156.44531   \n",
      "157          849.366         7.56579                 133.68968  156.58526   \n",
      "\n",
      "     Health (Life Expectancy)   Freedom  Trust (Government Corruption)  \\\n",
      "0                     0.94143   0.66557                        0.41978   \n",
      "1                     1.88927   1.29434                        0.56123   \n",
      "2                     2.76391   1.94372                        1.04480   \n",
      "3                     3.64912   2.61345                        1.40983   \n",
      "4                     4.55475   3.24642                        1.73940   \n",
      "..                        ...       ...                            ...   \n",
      "153                  98.03156  66.59679                       22.18356   \n",
      "154                  98.35066  67.08129                       22.26366   \n",
      "155                  99.07259  67.23813                       22.45272   \n",
      "156                  99.29655  67.35663                       22.55334   \n",
      "157                  99.58098  67.72116                       22.66065   \n",
      "\n",
      "     Generosity  Dystopia Residual  \n",
      "0       0.29678            2.51738  \n",
      "1       0.73308            5.21939  \n",
      "2       1.07447            7.71143  \n",
      "3       1.42146           10.17674  \n",
      "4       1.87957           12.62850  \n",
      "..          ...                ...  \n",
      "153    36.47422          326.27619  \n",
      "154    36.65682          327.90947  \n",
      "155    37.12861          328.23805  \n",
      "156    37.32588          330.07107  \n",
      "157    37.49269          331.63833  \n",
      "\n",
      "[158 rows x 12 columns]\n"
     ]
    }
   ],
   "source": [
    "print(y.cumsum())"
   ]
  },
  {
   "cell_type": "code",
   "execution_count": 63,
   "id": "f90b9f00",
   "metadata": {},
   "outputs": [
    {
     "name": "stdout",
     "output_type": "stream",
     "text": [
      "Country                          158\n",
      "Region                           158\n",
      "Happiness Rank                   158\n",
      "Happiness Score                  158\n",
      "Standard Error                   158\n",
      "Economy (GDP per Capita)         158\n",
      "Family                           158\n",
      "Health (Life Expectancy)         158\n",
      "Freedom                          158\n",
      "Trust (Government Corruption)    158\n",
      "Generosity                       158\n",
      "Dystopia Residual                158\n",
      "dtype: int64\n"
     ]
    }
   ],
   "source": [
    "print(y.count())"
   ]
  },
  {
   "cell_type": "code",
   "execution_count": 64,
   "id": "d51f534d",
   "metadata": {},
   "outputs": [
    {
     "name": "stdout",
     "output_type": "stream",
     "text": [
      "Country                                        Afghanistan\n",
      "Region                           Australia and New Zealand\n",
      "Happiness Rank                                           1\n",
      "Happiness Score                                      2.839\n",
      "Standard Error                                     0.01848\n",
      "Economy (GDP per Capita)                               0.0\n",
      "Family                                                 0.0\n",
      "Health (Life Expectancy)                               0.0\n",
      "Freedom                                                0.0\n",
      "Trust (Government Corruption)                          0.0\n",
      "Generosity                                             0.0\n",
      "Dystopia Residual                                  0.32858\n",
      "dtype: object\n"
     ]
    }
   ],
   "source": [
    "print(y.min())"
   ]
  },
  {
   "cell_type": "code",
   "execution_count": 65,
   "id": "8da2461a",
   "metadata": {},
   "outputs": [
    {
     "name": "stdout",
     "output_type": "stream",
     "text": [
      "Country                                Zimbabwe\n",
      "Region                           Western Europe\n",
      "Happiness Rank                              158\n",
      "Happiness Score                           7.587\n",
      "Standard Error                          0.13693\n",
      "Economy (GDP per Capita)                1.69042\n",
      "Family                                  1.40223\n",
      "Health (Life Expectancy)                1.02525\n",
      "Freedom                                 0.66973\n",
      "Trust (Government Corruption)           0.55191\n",
      "Generosity                              0.79588\n",
      "Dystopia Residual                       3.60214\n",
      "dtype: object\n"
     ]
    }
   ],
   "source": [
    "print(y.max())"
   ]
  },
  {
   "cell_type": "code",
   "execution_count": 66,
   "id": "59714746",
   "metadata": {},
   "outputs": [
    {
     "name": "stdout",
     "output_type": "stream",
     "text": [
      "[[   4.88841846    4.83879729    4.70142994 ...   -8.94067707\n",
      "    -8.82138793   -8.98078038]\n",
      " [   4.83879729    4.90609656    4.85312686 ...    6.65446601\n",
      "     6.91187931    6.84394034]\n",
      " [   4.70142994    4.85312686    4.92188806 ...   22.31438288\n",
      "    22.641738     22.68516687]\n",
      " ...\n",
      " [  -8.94067707    6.65446601   22.31438288 ... 2413.35472621\n",
      "  2429.10053333 2444.88038009]\n",
      " [  -8.82138793    6.91187931   22.641738   ... 2429.10053333\n",
      "  2445.28647938 2461.11016749]\n",
      " [  -8.98078038    6.84394034   22.68516687 ... 2444.88038009\n",
      "  2461.11016749 2477.06518276]]\n"
     ]
    }
   ],
   "source": [
    "from numpy import cov\n",
    "covariance=cov(df1)\n",
    "print(covariance)"
   ]
  },
  {
   "cell_type": "code",
   "execution_count": 67,
   "id": "1614e0c1",
   "metadata": {},
   "outputs": [
    {
     "name": "stdout",
     "output_type": "stream",
     "text": [
      "Requirement already satisfied: scipy in ./anaconda3/lib/python3.11/site-packages (1.10.1)\n",
      "Requirement already satisfied: numpy<1.27.0,>=1.19.5 in ./anaconda3/lib/python3.11/site-packages (from scipy) (1.24.3)\n",
      "Note: you may need to restart the kernel to use updated packages.\n"
     ]
    }
   ],
   "source": [
    "pip install scipy"
   ]
  },
  {
   "cell_type": "code",
   "execution_count": 75,
   "id": "4909d7ef",
   "metadata": {},
   "outputs": [
    {
     "name": "stdout",
     "output_type": "stream",
     "text": [
      "PearsonRResult(statistic=-0.1013011124610882, pvalue=0.2053394437597998)\n"
     ]
    }
   ],
   "source": [
    "from scipy.stats import pearsonr\n",
    "#data1=df1\n",
    "corr=pearsonr(y[\"Generosity\"],y[\"Dystopia Residual\"])\n",
    "print(corr)"
   ]
  },
  {
   "cell_type": "code",
   "execution_count": 76,
   "id": "c504e5b4",
   "metadata": {},
   "outputs": [
    {
     "name": "stdout",
     "output_type": "stream",
     "text": [
      "0.008091469045072784\n"
     ]
    }
   ],
   "source": [
    "from scipy.stats import spearmanr\n",
    "#data1=df1\n",
    "corr,_=spearmanr(y[\"Generosity\"],y[\"Dystopia Residual\"])\n",
    "print(corr)"
   ]
  },
  {
   "cell_type": "code",
   "execution_count": 77,
   "id": "2612810a",
   "metadata": {},
   "outputs": [
    {
     "data": {
      "text/html": [
       "<div>\n",
       "<style scoped>\n",
       "    .dataframe tbody tr th:only-of-type {\n",
       "        vertical-align: middle;\n",
       "    }\n",
       "\n",
       "    .dataframe tbody tr th {\n",
       "        vertical-align: top;\n",
       "    }\n",
       "\n",
       "    .dataframe thead th {\n",
       "        text-align: right;\n",
       "    }\n",
       "</style>\n",
       "<table border=\"1\" class=\"dataframe\">\n",
       "  <thead>\n",
       "    <tr style=\"text-align: right;\">\n",
       "      <th></th>\n",
       "      <th>SALESMAN</th>\n",
       "      <th>JAN</th>\n",
       "      <th>FEB</th>\n",
       "      <th>MAR</th>\n",
       "      <th>APR</th>\n",
       "      <th>MAY</th>\n",
       "      <th>JUN</th>\n",
       "      <th>TOTAL SALES</th>\n",
       "      <th>Unnamed: 8</th>\n",
       "      <th>Unnamed: 9</th>\n",
       "      <th>Unnamed: 10</th>\n",
       "      <th>Unnamed: 11</th>\n",
       "    </tr>\n",
       "  </thead>\n",
       "  <tbody>\n",
       "    <tr>\n",
       "      <th>0</th>\n",
       "      <td>ANU</td>\n",
       "      <td>70.0</td>\n",
       "      <td>80.0</td>\n",
       "      <td>75.0</td>\n",
       "      <td>60.0</td>\n",
       "      <td>72.0</td>\n",
       "      <td>55.0</td>\n",
       "      <td>412.0</td>\n",
       "      <td>NaN</td>\n",
       "      <td>NaN</td>\n",
       "      <td>NaN</td>\n",
       "      <td>NaN</td>\n",
       "    </tr>\n",
       "    <tr>\n",
       "      <th>1</th>\n",
       "      <td>BABU</td>\n",
       "      <td>30.0</td>\n",
       "      <td>48.0</td>\n",
       "      <td>35.0</td>\n",
       "      <td>45.0</td>\n",
       "      <td>25.0</td>\n",
       "      <td>37.0</td>\n",
       "      <td>220.0</td>\n",
       "      <td>NaN</td>\n",
       "      <td>NaN</td>\n",
       "      <td>NaN</td>\n",
       "      <td>1. Individual Sales using Sum()</td>\n",
       "    </tr>\n",
       "    <tr>\n",
       "      <th>2</th>\n",
       "      <td>CHANDRU</td>\n",
       "      <td>65.0</td>\n",
       "      <td>54.0</td>\n",
       "      <td>49.0</td>\n",
       "      <td>54.0</td>\n",
       "      <td>35.0</td>\n",
       "      <td>65.0</td>\n",
       "      <td>322.0</td>\n",
       "      <td>NaN</td>\n",
       "      <td>NaN</td>\n",
       "      <td>NaN</td>\n",
       "      <td>2. Find the pattern trend using conditional fo...</td>\n",
       "    </tr>\n",
       "    <tr>\n",
       "      <th>3</th>\n",
       "      <td>DAVID</td>\n",
       "      <td>85.0</td>\n",
       "      <td>71.0</td>\n",
       "      <td>68.0</td>\n",
       "      <td>77.0</td>\n",
       "      <td>88.0</td>\n",
       "      <td>73.0</td>\n",
       "      <td>462.0</td>\n",
       "      <td>NaN</td>\n",
       "      <td>NaN</td>\n",
       "      <td>NaN</td>\n",
       "      <td>3. Analyze using Pivot table as column percentage</td>\n",
       "    </tr>\n",
       "    <tr>\n",
       "      <th>4</th>\n",
       "      <td>EINSTEIN</td>\n",
       "      <td>55.0</td>\n",
       "      <td>25.0</td>\n",
       "      <td>45.0</td>\n",
       "      <td>50.0</td>\n",
       "      <td>53.0</td>\n",
       "      <td>30.0</td>\n",
       "      <td>258.0</td>\n",
       "      <td>NaN</td>\n",
       "      <td>NaN</td>\n",
       "      <td>NaN</td>\n",
       "      <td>4. Insert Pivot charts</td>\n",
       "    </tr>\n",
       "    <tr>\n",
       "      <th>5</th>\n",
       "      <td>FAROOK</td>\n",
       "      <td>35.0</td>\n",
       "      <td>45.0</td>\n",
       "      <td>15.0</td>\n",
       "      <td>45.0</td>\n",
       "      <td>45.0</td>\n",
       "      <td>25.0</td>\n",
       "      <td>210.0</td>\n",
       "      <td>NaN</td>\n",
       "      <td>NaN</td>\n",
       "      <td>NaN</td>\n",
       "      <td>5. Rank() - returns the rank of a given value ...</td>\n",
       "    </tr>\n",
       "    <tr>\n",
       "      <th>6</th>\n",
       "      <td>GOWTHAM</td>\n",
       "      <td>75.0</td>\n",
       "      <td>66.0</td>\n",
       "      <td>59.0</td>\n",
       "      <td>65.0</td>\n",
       "      <td>56.0</td>\n",
       "      <td>30.0</td>\n",
       "      <td>351.0</td>\n",
       "      <td>NaN</td>\n",
       "      <td>NaN</td>\n",
       "      <td>NaN</td>\n",
       "      <td>NaN</td>\n",
       "    </tr>\n",
       "    <tr>\n",
       "      <th>7</th>\n",
       "      <td>HARSHITH</td>\n",
       "      <td>29.0</td>\n",
       "      <td>35.0</td>\n",
       "      <td>49.0</td>\n",
       "      <td>48.0</td>\n",
       "      <td>35.0</td>\n",
       "      <td>55.0</td>\n",
       "      <td>247.0</td>\n",
       "      <td>NaN</td>\n",
       "      <td>NaN</td>\n",
       "      <td>NaN</td>\n",
       "      <td>33</td>\n",
       "    </tr>\n",
       "    <tr>\n",
       "      <th>8</th>\n",
       "      <td>INIYAN</td>\n",
       "      <td>35.0</td>\n",
       "      <td>35.0</td>\n",
       "      <td>50.0</td>\n",
       "      <td>59.0</td>\n",
       "      <td>67.0</td>\n",
       "      <td>73.0</td>\n",
       "      <td>319.0</td>\n",
       "      <td>NaN</td>\n",
       "      <td>NaN</td>\n",
       "      <td>NaN</td>\n",
       "      <td>NaN</td>\n",
       "    </tr>\n",
       "    <tr>\n",
       "      <th>9</th>\n",
       "      <td>JOHN</td>\n",
       "      <td>77.0</td>\n",
       "      <td>85.0</td>\n",
       "      <td>77.0</td>\n",
       "      <td>68.0</td>\n",
       "      <td>56.0</td>\n",
       "      <td>25.0</td>\n",
       "      <td>388.0</td>\n",
       "      <td>NaN</td>\n",
       "      <td>NaN</td>\n",
       "      <td>NaN</td>\n",
       "      <td>NaN</td>\n",
       "    </tr>\n",
       "    <tr>\n",
       "      <th>10</th>\n",
       "      <td>MONTHLY SALES</td>\n",
       "      <td>556.0</td>\n",
       "      <td>544.0</td>\n",
       "      <td>522.0</td>\n",
       "      <td>571.0</td>\n",
       "      <td>532.0</td>\n",
       "      <td>468.0</td>\n",
       "      <td>NaN</td>\n",
       "      <td>3193.0</td>\n",
       "      <td>NaN</td>\n",
       "      <td>NaN</td>\n",
       "      <td>NaN</td>\n",
       "    </tr>\n",
       "    <tr>\n",
       "      <th>11</th>\n",
       "      <td>NaN</td>\n",
       "      <td>NaN</td>\n",
       "      <td>NaN</td>\n",
       "      <td>NaN</td>\n",
       "      <td>NaN</td>\n",
       "      <td>NaN</td>\n",
       "      <td>NaN</td>\n",
       "      <td>3189.0</td>\n",
       "      <td>NaN</td>\n",
       "      <td>NaN</td>\n",
       "      <td>NaN</td>\n",
       "      <td>NaN</td>\n",
       "    </tr>\n",
       "  </tbody>\n",
       "</table>\n",
       "</div>"
      ],
      "text/plain": [
       "         SALESMAN    JAN    FEB    MAR    APR    MAY    JUN  TOTAL SALES  \\\n",
       "0             ANU   70.0   80.0   75.0   60.0   72.0   55.0        412.0   \n",
       "1            BABU   30.0   48.0   35.0   45.0   25.0   37.0        220.0   \n",
       "2         CHANDRU   65.0   54.0   49.0   54.0   35.0   65.0        322.0   \n",
       "3           DAVID   85.0   71.0   68.0   77.0   88.0   73.0        462.0   \n",
       "4        EINSTEIN   55.0   25.0   45.0   50.0   53.0   30.0        258.0   \n",
       "5          FAROOK   35.0   45.0   15.0   45.0   45.0   25.0        210.0   \n",
       "6         GOWTHAM   75.0   66.0   59.0   65.0   56.0   30.0        351.0   \n",
       "7        HARSHITH   29.0   35.0   49.0   48.0   35.0   55.0        247.0   \n",
       "8          INIYAN   35.0   35.0   50.0   59.0   67.0   73.0        319.0   \n",
       "9            JOHN   77.0   85.0   77.0   68.0   56.0   25.0        388.0   \n",
       "10  MONTHLY SALES  556.0  544.0  522.0  571.0  532.0  468.0          NaN   \n",
       "11            NaN    NaN    NaN    NaN    NaN    NaN    NaN       3189.0   \n",
       "\n",
       "    Unnamed: 8  Unnamed: 9  Unnamed: 10  \\\n",
       "0          NaN         NaN          NaN   \n",
       "1          NaN         NaN          NaN   \n",
       "2          NaN         NaN          NaN   \n",
       "3          NaN         NaN          NaN   \n",
       "4          NaN         NaN          NaN   \n",
       "5          NaN         NaN          NaN   \n",
       "6          NaN         NaN          NaN   \n",
       "7          NaN         NaN          NaN   \n",
       "8          NaN         NaN          NaN   \n",
       "9          NaN         NaN          NaN   \n",
       "10      3193.0         NaN          NaN   \n",
       "11         NaN         NaN          NaN   \n",
       "\n",
       "                                          Unnamed: 11  \n",
       "0                                                 NaN  \n",
       "1                     1. Individual Sales using Sum()  \n",
       "2   2. Find the pattern trend using conditional fo...  \n",
       "3   3. Analyze using Pivot table as column percentage  \n",
       "4                              4. Insert Pivot charts  \n",
       "5   5. Rank() - returns the rank of a given value ...  \n",
       "6                                                 NaN  \n",
       "7                                                  33  \n",
       "8                                                 NaN  \n",
       "9                                                 NaN  \n",
       "10                                                NaN  \n",
       "11                                                NaN  "
      ]
     },
     "execution_count": 77,
     "metadata": {},
     "output_type": "execute_result"
    }
   ],
   "source": [
    "z=pd.read_csv(\"/Users/teja/Desktop/3_Fitness.csv\")\n",
    "z"
   ]
  },
  {
   "cell_type": "code",
   "execution_count": 78,
   "id": "35b1b717",
   "metadata": {},
   "outputs": [
    {
     "name": "stdout",
     "output_type": "stream",
     "text": [
      "              JAN         FEB         MAR         APR         MAY         JUN  \\\n",
      "count   11.000000   11.000000   11.000000   11.000000   11.000000   11.000000   \n",
      "mean   101.090909   98.909091   94.909091  103.818182   96.727273   85.090909   \n",
      "std    152.263886  148.884153  142.770763  155.277054  145.500578  128.347540   \n",
      "min     29.000000   25.000000   15.000000   45.000000   25.000000   25.000000   \n",
      "25%     35.000000   40.000000   47.000000   49.000000   40.000000   30.000000   \n",
      "50%     65.000000   54.000000   50.000000   59.000000   56.000000   55.000000   \n",
      "75%     76.000000   75.500000   71.500000   66.500000   69.500000   69.000000   \n",
      "max    556.000000  544.000000  522.000000  571.000000  532.000000  468.000000   \n",
      "\n",
      "       TOTAL SALES  Unnamed: 8  Unnamed: 9  Unnamed: 10  \n",
      "count    11.000000         1.0         0.0          0.0  \n",
      "mean    579.818182      3193.0         NaN          NaN  \n",
      "std     869.142775         NaN         NaN          NaN  \n",
      "min     210.000000      3193.0         NaN          NaN  \n",
      "25%     252.500000      3193.0         NaN          NaN  \n",
      "50%     322.000000      3193.0         NaN          NaN  \n",
      "75%     400.000000      3193.0         NaN          NaN  \n",
      "max    3189.000000      3193.0         NaN          NaN  \n"
     ]
    }
   ],
   "source": [
    "print(z.describe())"
   ]
  },
  {
   "cell_type": "code",
   "execution_count": 79,
   "id": "5b516adc",
   "metadata": {},
   "outputs": [
    {
     "data": {
      "text/html": [
       "<div>\n",
       "<style scoped>\n",
       "    .dataframe tbody tr th:only-of-type {\n",
       "        vertical-align: middle;\n",
       "    }\n",
       "\n",
       "    .dataframe tbody tr th {\n",
       "        vertical-align: top;\n",
       "    }\n",
       "\n",
       "    .dataframe thead th {\n",
       "        text-align: right;\n",
       "    }\n",
       "</style>\n",
       "<table border=\"1\" class=\"dataframe\">\n",
       "  <thead>\n",
       "    <tr style=\"text-align: right;\">\n",
       "      <th></th>\n",
       "      <th>JAN</th>\n",
       "      <th>FEB</th>\n",
       "      <th>MAR</th>\n",
       "      <th>APR</th>\n",
       "      <th>MAY</th>\n",
       "      <th>JUN</th>\n",
       "      <th>TOTAL SALES</th>\n",
       "      <th>Unnamed: 8</th>\n",
       "      <th>Unnamed: 9</th>\n",
       "      <th>Unnamed: 10</th>\n",
       "    </tr>\n",
       "  </thead>\n",
       "  <tbody>\n",
       "    <tr>\n",
       "      <th>0</th>\n",
       "      <td>70.0</td>\n",
       "      <td>80.0</td>\n",
       "      <td>75.0</td>\n",
       "      <td>60.0</td>\n",
       "      <td>72.0</td>\n",
       "      <td>55.0</td>\n",
       "      <td>412.0</td>\n",
       "      <td>NaN</td>\n",
       "      <td>NaN</td>\n",
       "      <td>NaN</td>\n",
       "    </tr>\n",
       "    <tr>\n",
       "      <th>1</th>\n",
       "      <td>30.0</td>\n",
       "      <td>48.0</td>\n",
       "      <td>35.0</td>\n",
       "      <td>45.0</td>\n",
       "      <td>25.0</td>\n",
       "      <td>37.0</td>\n",
       "      <td>220.0</td>\n",
       "      <td>NaN</td>\n",
       "      <td>NaN</td>\n",
       "      <td>NaN</td>\n",
       "    </tr>\n",
       "    <tr>\n",
       "      <th>2</th>\n",
       "      <td>65.0</td>\n",
       "      <td>54.0</td>\n",
       "      <td>49.0</td>\n",
       "      <td>54.0</td>\n",
       "      <td>35.0</td>\n",
       "      <td>65.0</td>\n",
       "      <td>322.0</td>\n",
       "      <td>NaN</td>\n",
       "      <td>NaN</td>\n",
       "      <td>NaN</td>\n",
       "    </tr>\n",
       "    <tr>\n",
       "      <th>3</th>\n",
       "      <td>85.0</td>\n",
       "      <td>71.0</td>\n",
       "      <td>68.0</td>\n",
       "      <td>77.0</td>\n",
       "      <td>88.0</td>\n",
       "      <td>73.0</td>\n",
       "      <td>462.0</td>\n",
       "      <td>NaN</td>\n",
       "      <td>NaN</td>\n",
       "      <td>NaN</td>\n",
       "    </tr>\n",
       "    <tr>\n",
       "      <th>4</th>\n",
       "      <td>55.0</td>\n",
       "      <td>25.0</td>\n",
       "      <td>45.0</td>\n",
       "      <td>50.0</td>\n",
       "      <td>53.0</td>\n",
       "      <td>30.0</td>\n",
       "      <td>258.0</td>\n",
       "      <td>NaN</td>\n",
       "      <td>NaN</td>\n",
       "      <td>NaN</td>\n",
       "    </tr>\n",
       "    <tr>\n",
       "      <th>5</th>\n",
       "      <td>35.0</td>\n",
       "      <td>45.0</td>\n",
       "      <td>15.0</td>\n",
       "      <td>45.0</td>\n",
       "      <td>45.0</td>\n",
       "      <td>25.0</td>\n",
       "      <td>210.0</td>\n",
       "      <td>NaN</td>\n",
       "      <td>NaN</td>\n",
       "      <td>NaN</td>\n",
       "    </tr>\n",
       "    <tr>\n",
       "      <th>6</th>\n",
       "      <td>75.0</td>\n",
       "      <td>66.0</td>\n",
       "      <td>59.0</td>\n",
       "      <td>65.0</td>\n",
       "      <td>56.0</td>\n",
       "      <td>30.0</td>\n",
       "      <td>351.0</td>\n",
       "      <td>NaN</td>\n",
       "      <td>NaN</td>\n",
       "      <td>NaN</td>\n",
       "    </tr>\n",
       "    <tr>\n",
       "      <th>7</th>\n",
       "      <td>29.0</td>\n",
       "      <td>35.0</td>\n",
       "      <td>49.0</td>\n",
       "      <td>48.0</td>\n",
       "      <td>35.0</td>\n",
       "      <td>55.0</td>\n",
       "      <td>247.0</td>\n",
       "      <td>NaN</td>\n",
       "      <td>NaN</td>\n",
       "      <td>NaN</td>\n",
       "    </tr>\n",
       "    <tr>\n",
       "      <th>8</th>\n",
       "      <td>35.0</td>\n",
       "      <td>35.0</td>\n",
       "      <td>50.0</td>\n",
       "      <td>59.0</td>\n",
       "      <td>67.0</td>\n",
       "      <td>73.0</td>\n",
       "      <td>319.0</td>\n",
       "      <td>NaN</td>\n",
       "      <td>NaN</td>\n",
       "      <td>NaN</td>\n",
       "    </tr>\n",
       "    <tr>\n",
       "      <th>9</th>\n",
       "      <td>77.0</td>\n",
       "      <td>85.0</td>\n",
       "      <td>77.0</td>\n",
       "      <td>68.0</td>\n",
       "      <td>56.0</td>\n",
       "      <td>25.0</td>\n",
       "      <td>388.0</td>\n",
       "      <td>NaN</td>\n",
       "      <td>NaN</td>\n",
       "      <td>NaN</td>\n",
       "    </tr>\n",
       "    <tr>\n",
       "      <th>10</th>\n",
       "      <td>556.0</td>\n",
       "      <td>544.0</td>\n",
       "      <td>522.0</td>\n",
       "      <td>571.0</td>\n",
       "      <td>532.0</td>\n",
       "      <td>468.0</td>\n",
       "      <td>NaN</td>\n",
       "      <td>3193.0</td>\n",
       "      <td>NaN</td>\n",
       "      <td>NaN</td>\n",
       "    </tr>\n",
       "    <tr>\n",
       "      <th>11</th>\n",
       "      <td>NaN</td>\n",
       "      <td>NaN</td>\n",
       "      <td>NaN</td>\n",
       "      <td>NaN</td>\n",
       "      <td>NaN</td>\n",
       "      <td>NaN</td>\n",
       "      <td>3189.0</td>\n",
       "      <td>NaN</td>\n",
       "      <td>NaN</td>\n",
       "      <td>NaN</td>\n",
       "    </tr>\n",
       "  </tbody>\n",
       "</table>\n",
       "</div>"
      ],
      "text/plain": [
       "      JAN    FEB    MAR    APR    MAY    JUN  TOTAL SALES  Unnamed: 8  \\\n",
       "0    70.0   80.0   75.0   60.0   72.0   55.0        412.0         NaN   \n",
       "1    30.0   48.0   35.0   45.0   25.0   37.0        220.0         NaN   \n",
       "2    65.0   54.0   49.0   54.0   35.0   65.0        322.0         NaN   \n",
       "3    85.0   71.0   68.0   77.0   88.0   73.0        462.0         NaN   \n",
       "4    55.0   25.0   45.0   50.0   53.0   30.0        258.0         NaN   \n",
       "5    35.0   45.0   15.0   45.0   45.0   25.0        210.0         NaN   \n",
       "6    75.0   66.0   59.0   65.0   56.0   30.0        351.0         NaN   \n",
       "7    29.0   35.0   49.0   48.0   35.0   55.0        247.0         NaN   \n",
       "8    35.0   35.0   50.0   59.0   67.0   73.0        319.0         NaN   \n",
       "9    77.0   85.0   77.0   68.0   56.0   25.0        388.0         NaN   \n",
       "10  556.0  544.0  522.0  571.0  532.0  468.0          NaN      3193.0   \n",
       "11    NaN    NaN    NaN    NaN    NaN    NaN       3189.0         NaN   \n",
       "\n",
       "    Unnamed: 9  Unnamed: 10  \n",
       "0          NaN          NaN  \n",
       "1          NaN          NaN  \n",
       "2          NaN          NaN  \n",
       "3          NaN          NaN  \n",
       "4          NaN          NaN  \n",
       "5          NaN          NaN  \n",
       "6          NaN          NaN  \n",
       "7          NaN          NaN  \n",
       "8          NaN          NaN  \n",
       "9          NaN          NaN  \n",
       "10         NaN          NaN  \n",
       "11         NaN          NaN  "
      ]
     },
     "execution_count": 79,
     "metadata": {},
     "output_type": "execute_result"
    }
   ],
   "source": [
    "df2=z[[\"JAN\",\"FEB\",\"MAR\",\"APR\",\"MAY\",\"JUN\",\"TOTAL SALES\",\"Unnamed: 8\",\"Unnamed: 9\",\"Unnamed: 10\"]]\n",
    "df2"
   ]
  },
  {
   "cell_type": "code",
   "execution_count": 80,
   "id": "325e2871",
   "metadata": {},
   "outputs": [
    {
     "name": "stdout",
     "output_type": "stream",
     "text": [
      "JAN             101.090909\n",
      "FEB              98.909091\n",
      "MAR              94.909091\n",
      "APR             103.818182\n",
      "MAY              96.727273\n",
      "JUN              85.090909\n",
      "TOTAL SALES     579.818182\n",
      "Unnamed: 8     3193.000000\n",
      "Unnamed: 9             NaN\n",
      "Unnamed: 10            NaN\n",
      "dtype: float64\n"
     ]
    }
   ],
   "source": [
    "print(df2.mean())"
   ]
  },
  {
   "cell_type": "code",
   "execution_count": 81,
   "id": "8e6ea049",
   "metadata": {},
   "outputs": [
    {
     "name": "stdout",
     "output_type": "stream",
     "text": [
      "JAN              65.0\n",
      "FEB              54.0\n",
      "MAR              50.0\n",
      "APR              59.0\n",
      "MAY              56.0\n",
      "JUN              55.0\n",
      "TOTAL SALES     322.0\n",
      "Unnamed: 8     3193.0\n",
      "Unnamed: 9        NaN\n",
      "Unnamed: 10       NaN\n",
      "dtype: float64\n"
     ]
    }
   ],
   "source": [
    "print(df2.median())"
   ]
  },
  {
   "cell_type": "code",
   "execution_count": 82,
   "id": "601d8553",
   "metadata": {},
   "outputs": [
    {
     "name": "stdout",
     "output_type": "stream",
     "text": [
      "     JAN   FEB   MAR   APR   MAY   JUN  TOTAL SALES  Unnamed: 8  Unnamed: 9  \\\n",
      "0   35.0  35.0  49.0  45.0  35.0  25.0        210.0      3193.0         NaN   \n",
      "1    NaN   NaN   NaN   NaN  56.0  30.0        220.0         NaN         NaN   \n",
      "2    NaN   NaN   NaN   NaN   NaN  55.0        247.0         NaN         NaN   \n",
      "3    NaN   NaN   NaN   NaN   NaN  73.0        258.0         NaN         NaN   \n",
      "4    NaN   NaN   NaN   NaN   NaN   NaN        319.0         NaN         NaN   \n",
      "5    NaN   NaN   NaN   NaN   NaN   NaN        322.0         NaN         NaN   \n",
      "6    NaN   NaN   NaN   NaN   NaN   NaN        351.0         NaN         NaN   \n",
      "7    NaN   NaN   NaN   NaN   NaN   NaN        388.0         NaN         NaN   \n",
      "8    NaN   NaN   NaN   NaN   NaN   NaN        412.0         NaN         NaN   \n",
      "9    NaN   NaN   NaN   NaN   NaN   NaN        462.0         NaN         NaN   \n",
      "10   NaN   NaN   NaN   NaN   NaN   NaN       3189.0         NaN         NaN   \n",
      "\n",
      "    Unnamed: 10  \n",
      "0           NaN  \n",
      "1           NaN  \n",
      "2           NaN  \n",
      "3           NaN  \n",
      "4           NaN  \n",
      "5           NaN  \n",
      "6           NaN  \n",
      "7           NaN  \n",
      "8           NaN  \n",
      "9           NaN  \n",
      "10          NaN  \n"
     ]
    }
   ],
   "source": [
    "print(df2.mode())"
   ]
  },
  {
   "cell_type": "code",
   "execution_count": 83,
   "id": "214e68a9",
   "metadata": {},
   "outputs": [
    {
     "name": "stdout",
     "output_type": "stream",
     "text": [
      "JAN            1112.0\n",
      "FEB            1088.0\n",
      "MAR            1044.0\n",
      "APR            1142.0\n",
      "MAY            1064.0\n",
      "JUN             936.0\n",
      "TOTAL SALES    6378.0\n",
      "Unnamed: 8     3193.0\n",
      "Unnamed: 9        0.0\n",
      "Unnamed: 10       0.0\n",
      "dtype: float64\n"
     ]
    },
    {
     "name": "stderr",
     "output_type": "stream",
     "text": [
      "/var/folders/kc/f_2rv2sn30780xky6ysplv4c0000gn/T/ipykernel_2063/3352301598.py:1: FutureWarning: The default value of numeric_only in DataFrame.sum is deprecated. In a future version, it will default to False. In addition, specifying 'numeric_only=None' is deprecated. Select only valid columns or specify the value of numeric_only to silence this warning.\n",
      "  print(z.sum())\n"
     ]
    }
   ],
   "source": [
    "print(z.sum())"
   ]
  },
  {
   "cell_type": "code",
   "execution_count": 84,
   "id": "5900f59e",
   "metadata": {},
   "outputs": [
    {
     "name": "stdout",
     "output_type": "stream",
     "text": [
      "      Age   Na_to_K\n",
      "0      23    25.355\n",
      "1      70    38.448\n",
      "2     117    48.562\n",
      "3     145    56.360\n",
      "4     206    74.403\n",
      "..    ...       ...\n",
      "195  8732  3169.628\n",
      "196  8748  3181.634\n",
      "197  8800  3191.528\n",
      "198  8823  3205.548\n",
      "199  8863  3216.897\n",
      "\n",
      "[200 rows x 2 columns]\n"
     ]
    }
   ],
   "source": [
    "print(df.cumsum())"
   ]
  },
  {
   "cell_type": "code",
   "execution_count": 85,
   "id": "ee094029",
   "metadata": {},
   "outputs": [
    {
     "name": "stdout",
     "output_type": "stream",
     "text": [
      "SALESMAN       11\n",
      "JAN            11\n",
      "FEB            11\n",
      "MAR            11\n",
      "APR            11\n",
      "MAY            11\n",
      "JUN            11\n",
      "TOTAL SALES    11\n",
      "Unnamed: 8      1\n",
      "Unnamed: 9      0\n",
      "Unnamed: 10     0\n",
      "Unnamed: 11     6\n",
      "dtype: int64\n"
     ]
    }
   ],
   "source": [
    "print(z.count())"
   ]
  },
  {
   "cell_type": "code",
   "execution_count": 86,
   "id": "c8fcfd2c",
   "metadata": {},
   "outputs": [
    {
     "name": "stdout",
     "output_type": "stream",
     "text": [
      "JAN              29.0\n",
      "FEB              25.0\n",
      "MAR              15.0\n",
      "APR              45.0\n",
      "MAY              25.0\n",
      "JUN              25.0\n",
      "TOTAL SALES     210.0\n",
      "Unnamed: 8     3193.0\n",
      "Unnamed: 9        NaN\n",
      "Unnamed: 10       NaN\n",
      "dtype: float64\n"
     ]
    },
    {
     "name": "stderr",
     "output_type": "stream",
     "text": [
      "/var/folders/kc/f_2rv2sn30780xky6ysplv4c0000gn/T/ipykernel_2063/496370896.py:1: FutureWarning: The default value of numeric_only in DataFrame.min is deprecated. In a future version, it will default to False. In addition, specifying 'numeric_only=None' is deprecated. Select only valid columns or specify the value of numeric_only to silence this warning.\n",
      "  print(z.min())\n"
     ]
    }
   ],
   "source": [
    "print(z.min())"
   ]
  },
  {
   "cell_type": "code",
   "execution_count": 87,
   "id": "e1ceb7ae",
   "metadata": {},
   "outputs": [
    {
     "name": "stdout",
     "output_type": "stream",
     "text": [
      "JAN             556.0\n",
      "FEB             544.0\n",
      "MAR             522.0\n",
      "APR             571.0\n",
      "MAY             532.0\n",
      "JUN             468.0\n",
      "TOTAL SALES    3189.0\n",
      "Unnamed: 8     3193.0\n",
      "Unnamed: 9        NaN\n",
      "Unnamed: 10       NaN\n",
      "dtype: float64\n"
     ]
    },
    {
     "name": "stderr",
     "output_type": "stream",
     "text": [
      "/var/folders/kc/f_2rv2sn30780xky6ysplv4c0000gn/T/ipykernel_2063/2621443473.py:1: FutureWarning: The default value of numeric_only in DataFrame.max is deprecated. In a future version, it will default to False. In addition, specifying 'numeric_only=None' is deprecated. Select only valid columns or specify the value of numeric_only to silence this warning.\n",
      "  print(z.max())\n"
     ]
    }
   ],
   "source": [
    "print(z.max())"
   ]
  },
  {
   "cell_type": "code",
   "execution_count": 88,
   "id": "1b9efd8b",
   "metadata": {},
   "outputs": [
    {
     "name": "stdout",
     "output_type": "stream",
     "text": [
      "[[   4.88841846    4.83879729    4.70142994 ...   -8.94067707\n",
      "    -8.82138793   -8.98078038]\n",
      " [   4.83879729    4.90609656    4.85312686 ...    6.65446601\n",
      "     6.91187931    6.84394034]\n",
      " [   4.70142994    4.85312686    4.92188806 ...   22.31438288\n",
      "    22.641738     22.68516687]\n",
      " ...\n",
      " [  -8.94067707    6.65446601   22.31438288 ... 2413.35472621\n",
      "  2429.10053333 2444.88038009]\n",
      " [  -8.82138793    6.91187931   22.641738   ... 2429.10053333\n",
      "  2445.28647938 2461.11016749]\n",
      " [  -8.98078038    6.84394034   22.68516687 ... 2444.88038009\n",
      "  2461.11016749 2477.06518276]]\n"
     ]
    }
   ],
   "source": [
    "from numpy import cov\n",
    "covariance1=cov(df2)\n",
    "print(covariance)"
   ]
  },
  {
   "cell_type": "code",
   "execution_count": 89,
   "id": "ec12c0b9",
   "metadata": {},
   "outputs": [
    {
     "name": "stdout",
     "output_type": "stream",
     "text": [
      "Requirement already satisfied: scipy in ./anaconda3/lib/python3.11/site-packages (1.10.1)\n",
      "Requirement already satisfied: numpy<1.27.0,>=1.19.5 in ./anaconda3/lib/python3.11/site-packages (from scipy) (1.24.3)\n",
      "Note: you may need to restart the kernel to use updated packages.\n"
     ]
    }
   ],
   "source": [
    "pip install scipy"
   ]
  },
  {
   "cell_type": "code",
   "execution_count": 97,
   "id": "e4f6ce7b",
   "metadata": {},
   "outputs": [
    {
     "name": "stderr",
     "output_type": "stream",
     "text": [
      "/var/folders/kc/f_2rv2sn30780xky6ysplv4c0000gn/T/ipykernel_2063/2546627403.py:1: FutureWarning: The default value of numeric_only in DataFrame.median is deprecated. In a future version, it will default to False. In addition, specifying 'numeric_only=None' is deprecated. Select only valid columns or specify the value of numeric_only to silence this warning.\n",
      "  z=z.fillna(z.median())\n"
     ]
    },
    {
     "data": {
      "text/html": [
       "<div>\n",
       "<style scoped>\n",
       "    .dataframe tbody tr th:only-of-type {\n",
       "        vertical-align: middle;\n",
       "    }\n",
       "\n",
       "    .dataframe tbody tr th {\n",
       "        vertical-align: top;\n",
       "    }\n",
       "\n",
       "    .dataframe thead th {\n",
       "        text-align: right;\n",
       "    }\n",
       "</style>\n",
       "<table border=\"1\" class=\"dataframe\">\n",
       "  <thead>\n",
       "    <tr style=\"text-align: right;\">\n",
       "      <th></th>\n",
       "      <th>SALESMAN</th>\n",
       "      <th>JAN</th>\n",
       "      <th>FEB</th>\n",
       "      <th>MAR</th>\n",
       "      <th>APR</th>\n",
       "      <th>MAY</th>\n",
       "      <th>JUN</th>\n",
       "      <th>TOTAL SALES</th>\n",
       "      <th>Unnamed: 8</th>\n",
       "      <th>Unnamed: 9</th>\n",
       "      <th>Unnamed: 10</th>\n",
       "      <th>Unnamed: 11</th>\n",
       "    </tr>\n",
       "  </thead>\n",
       "  <tbody>\n",
       "    <tr>\n",
       "      <th>0</th>\n",
       "      <td>ANU</td>\n",
       "      <td>70.0</td>\n",
       "      <td>80.0</td>\n",
       "      <td>75.0</td>\n",
       "      <td>60.0</td>\n",
       "      <td>72.0</td>\n",
       "      <td>55.0</td>\n",
       "      <td>412.0</td>\n",
       "      <td>3193.0</td>\n",
       "      <td>NaN</td>\n",
       "      <td>NaN</td>\n",
       "      <td>NaN</td>\n",
       "    </tr>\n",
       "    <tr>\n",
       "      <th>1</th>\n",
       "      <td>BABU</td>\n",
       "      <td>30.0</td>\n",
       "      <td>48.0</td>\n",
       "      <td>35.0</td>\n",
       "      <td>45.0</td>\n",
       "      <td>25.0</td>\n",
       "      <td>37.0</td>\n",
       "      <td>220.0</td>\n",
       "      <td>3193.0</td>\n",
       "      <td>NaN</td>\n",
       "      <td>NaN</td>\n",
       "      <td>1. Individual Sales using Sum()</td>\n",
       "    </tr>\n",
       "    <tr>\n",
       "      <th>2</th>\n",
       "      <td>CHANDRU</td>\n",
       "      <td>65.0</td>\n",
       "      <td>54.0</td>\n",
       "      <td>49.0</td>\n",
       "      <td>54.0</td>\n",
       "      <td>35.0</td>\n",
       "      <td>65.0</td>\n",
       "      <td>322.0</td>\n",
       "      <td>3193.0</td>\n",
       "      <td>NaN</td>\n",
       "      <td>NaN</td>\n",
       "      <td>2. Find the pattern trend using conditional fo...</td>\n",
       "    </tr>\n",
       "    <tr>\n",
       "      <th>3</th>\n",
       "      <td>DAVID</td>\n",
       "      <td>85.0</td>\n",
       "      <td>71.0</td>\n",
       "      <td>68.0</td>\n",
       "      <td>77.0</td>\n",
       "      <td>88.0</td>\n",
       "      <td>73.0</td>\n",
       "      <td>462.0</td>\n",
       "      <td>3193.0</td>\n",
       "      <td>NaN</td>\n",
       "      <td>NaN</td>\n",
       "      <td>3. Analyze using Pivot table as column percentage</td>\n",
       "    </tr>\n",
       "    <tr>\n",
       "      <th>4</th>\n",
       "      <td>EINSTEIN</td>\n",
       "      <td>55.0</td>\n",
       "      <td>25.0</td>\n",
       "      <td>45.0</td>\n",
       "      <td>50.0</td>\n",
       "      <td>53.0</td>\n",
       "      <td>30.0</td>\n",
       "      <td>258.0</td>\n",
       "      <td>3193.0</td>\n",
       "      <td>NaN</td>\n",
       "      <td>NaN</td>\n",
       "      <td>4. Insert Pivot charts</td>\n",
       "    </tr>\n",
       "    <tr>\n",
       "      <th>5</th>\n",
       "      <td>FAROOK</td>\n",
       "      <td>35.0</td>\n",
       "      <td>45.0</td>\n",
       "      <td>15.0</td>\n",
       "      <td>45.0</td>\n",
       "      <td>45.0</td>\n",
       "      <td>25.0</td>\n",
       "      <td>210.0</td>\n",
       "      <td>3193.0</td>\n",
       "      <td>NaN</td>\n",
       "      <td>NaN</td>\n",
       "      <td>5. Rank() - returns the rank of a given value ...</td>\n",
       "    </tr>\n",
       "    <tr>\n",
       "      <th>6</th>\n",
       "      <td>GOWTHAM</td>\n",
       "      <td>75.0</td>\n",
       "      <td>66.0</td>\n",
       "      <td>59.0</td>\n",
       "      <td>65.0</td>\n",
       "      <td>56.0</td>\n",
       "      <td>30.0</td>\n",
       "      <td>351.0</td>\n",
       "      <td>3193.0</td>\n",
       "      <td>NaN</td>\n",
       "      <td>NaN</td>\n",
       "      <td>NaN</td>\n",
       "    </tr>\n",
       "    <tr>\n",
       "      <th>7</th>\n",
       "      <td>HARSHITH</td>\n",
       "      <td>29.0</td>\n",
       "      <td>35.0</td>\n",
       "      <td>49.0</td>\n",
       "      <td>48.0</td>\n",
       "      <td>35.0</td>\n",
       "      <td>55.0</td>\n",
       "      <td>247.0</td>\n",
       "      <td>3193.0</td>\n",
       "      <td>NaN</td>\n",
       "      <td>NaN</td>\n",
       "      <td>33</td>\n",
       "    </tr>\n",
       "    <tr>\n",
       "      <th>8</th>\n",
       "      <td>INIYAN</td>\n",
       "      <td>35.0</td>\n",
       "      <td>35.0</td>\n",
       "      <td>50.0</td>\n",
       "      <td>59.0</td>\n",
       "      <td>67.0</td>\n",
       "      <td>73.0</td>\n",
       "      <td>319.0</td>\n",
       "      <td>3193.0</td>\n",
       "      <td>NaN</td>\n",
       "      <td>NaN</td>\n",
       "      <td>NaN</td>\n",
       "    </tr>\n",
       "    <tr>\n",
       "      <th>9</th>\n",
       "      <td>JOHN</td>\n",
       "      <td>77.0</td>\n",
       "      <td>85.0</td>\n",
       "      <td>77.0</td>\n",
       "      <td>68.0</td>\n",
       "      <td>56.0</td>\n",
       "      <td>25.0</td>\n",
       "      <td>388.0</td>\n",
       "      <td>3193.0</td>\n",
       "      <td>NaN</td>\n",
       "      <td>NaN</td>\n",
       "      <td>NaN</td>\n",
       "    </tr>\n",
       "    <tr>\n",
       "      <th>10</th>\n",
       "      <td>MONTHLY SALES</td>\n",
       "      <td>556.0</td>\n",
       "      <td>544.0</td>\n",
       "      <td>522.0</td>\n",
       "      <td>571.0</td>\n",
       "      <td>532.0</td>\n",
       "      <td>468.0</td>\n",
       "      <td>322.0</td>\n",
       "      <td>3193.0</td>\n",
       "      <td>NaN</td>\n",
       "      <td>NaN</td>\n",
       "      <td>NaN</td>\n",
       "    </tr>\n",
       "    <tr>\n",
       "      <th>11</th>\n",
       "      <td>NaN</td>\n",
       "      <td>65.0</td>\n",
       "      <td>54.0</td>\n",
       "      <td>50.0</td>\n",
       "      <td>59.0</td>\n",
       "      <td>56.0</td>\n",
       "      <td>55.0</td>\n",
       "      <td>3189.0</td>\n",
       "      <td>3193.0</td>\n",
       "      <td>NaN</td>\n",
       "      <td>NaN</td>\n",
       "      <td>NaN</td>\n",
       "    </tr>\n",
       "  </tbody>\n",
       "</table>\n",
       "</div>"
      ],
      "text/plain": [
       "         SALESMAN    JAN    FEB    MAR    APR    MAY    JUN  TOTAL SALES  \\\n",
       "0             ANU   70.0   80.0   75.0   60.0   72.0   55.0        412.0   \n",
       "1            BABU   30.0   48.0   35.0   45.0   25.0   37.0        220.0   \n",
       "2         CHANDRU   65.0   54.0   49.0   54.0   35.0   65.0        322.0   \n",
       "3           DAVID   85.0   71.0   68.0   77.0   88.0   73.0        462.0   \n",
       "4        EINSTEIN   55.0   25.0   45.0   50.0   53.0   30.0        258.0   \n",
       "5          FAROOK   35.0   45.0   15.0   45.0   45.0   25.0        210.0   \n",
       "6         GOWTHAM   75.0   66.0   59.0   65.0   56.0   30.0        351.0   \n",
       "7        HARSHITH   29.0   35.0   49.0   48.0   35.0   55.0        247.0   \n",
       "8          INIYAN   35.0   35.0   50.0   59.0   67.0   73.0        319.0   \n",
       "9            JOHN   77.0   85.0   77.0   68.0   56.0   25.0        388.0   \n",
       "10  MONTHLY SALES  556.0  544.0  522.0  571.0  532.0  468.0        322.0   \n",
       "11            NaN   65.0   54.0   50.0   59.0   56.0   55.0       3189.0   \n",
       "\n",
       "    Unnamed: 8  Unnamed: 9  Unnamed: 10  \\\n",
       "0       3193.0         NaN          NaN   \n",
       "1       3193.0         NaN          NaN   \n",
       "2       3193.0         NaN          NaN   \n",
       "3       3193.0         NaN          NaN   \n",
       "4       3193.0         NaN          NaN   \n",
       "5       3193.0         NaN          NaN   \n",
       "6       3193.0         NaN          NaN   \n",
       "7       3193.0         NaN          NaN   \n",
       "8       3193.0         NaN          NaN   \n",
       "9       3193.0         NaN          NaN   \n",
       "10      3193.0         NaN          NaN   \n",
       "11      3193.0         NaN          NaN   \n",
       "\n",
       "                                          Unnamed: 11  \n",
       "0                                                 NaN  \n",
       "1                     1. Individual Sales using Sum()  \n",
       "2   2. Find the pattern trend using conditional fo...  \n",
       "3   3. Analyze using Pivot table as column percentage  \n",
       "4                              4. Insert Pivot charts  \n",
       "5   5. Rank() - returns the rank of a given value ...  \n",
       "6                                                 NaN  \n",
       "7                                                  33  \n",
       "8                                                 NaN  \n",
       "9                                                 NaN  \n",
       "10                                                NaN  \n",
       "11                                                NaN  "
      ]
     },
     "execution_count": 97,
     "metadata": {},
     "output_type": "execute_result"
    }
   ],
   "source": [
    "z=z.fillna(z.median())\n",
    "z"
   ]
  },
  {
   "cell_type": "code",
   "execution_count": 98,
   "id": "8fb8453f",
   "metadata": {
    "scrolled": true
   },
   "outputs": [
    {
     "name": "stdout",
     "output_type": "stream",
     "text": [
      "0.9956499571685765\n"
     ]
    }
   ],
   "source": [
    "from scipy.stats import pearsonr\n",
    "#d2=df2\n",
    "corr1,_=pearsonr(z[\"JAN\"],z[\"FEB\"])\n",
    "print(corr1)"
   ]
  },
  {
   "cell_type": "code",
   "execution_count": 99,
   "id": "b0e73a5e",
   "metadata": {},
   "outputs": [
    {
     "name": "stdout",
     "output_type": "stream",
     "text": [
      "0.8644366197183098 0.0002859085316708356\n"
     ]
    }
   ],
   "source": [
    "from scipy.stats import spearmanr\n",
    "d2=df2\n",
    "corr1,_=spearmanr(z[\"JAN\"],z[\"FEB\"])\n",
    "print(corr1,_)"
   ]
  },
  {
   "cell_type": "code",
   "execution_count": 156,
   "id": "ae4bb46c",
   "metadata": {},
   "outputs": [
    {
     "data": {
      "text/html": [
       "<div>\n",
       "<style scoped>\n",
       "    .dataframe tbody tr th:only-of-type {\n",
       "        vertical-align: middle;\n",
       "    }\n",
       "\n",
       "    .dataframe tbody tr th {\n",
       "        vertical-align: top;\n",
       "    }\n",
       "\n",
       "    .dataframe thead th {\n",
       "        text-align: right;\n",
       "    }\n",
       "</style>\n",
       "<table border=\"1\" class=\"dataframe\">\n",
       "  <thead>\n",
       "    <tr style=\"text-align: right;\">\n",
       "      <th></th>\n",
       "      <th>Unnamed: 0</th>\n",
       "      <th>Unnamed: 1</th>\n",
       "      <th>Unnamed: 2</th>\n",
       "      <th>Unnamed: 3</th>\n",
       "      <th>Unnamed: 4</th>\n",
       "      <th>Unnamed: 5</th>\n",
       "      <th>Unnamed: 6</th>\n",
       "      <th>Unnamed: 7</th>\n",
       "      <th>Unnamed: 8</th>\n",
       "      <th>Unnamed: 9</th>\n",
       "      <th>Unnamed: 10</th>\n",
       "      <th>Unnamed: 11</th>\n",
       "      <th>Unnamed: 12</th>\n",
       "      <th>Unnamed: 13</th>\n",
       "    </tr>\n",
       "  </thead>\n",
       "  <tbody>\n",
       "    <tr>\n",
       "      <th>0</th>\n",
       "      <td>MonthYear</td>\n",
       "      <td>Time index</td>\n",
       "      <td>Country</td>\n",
       "      <td>StoreID</td>\n",
       "      <td>City</td>\n",
       "      <td>Dept_ID</td>\n",
       "      <td>Dept. Name</td>\n",
       "      <td>HoursOwn</td>\n",
       "      <td>HoursLease</td>\n",
       "      <td>Sales units</td>\n",
       "      <td>Turnover</td>\n",
       "      <td>Customer</td>\n",
       "      <td>Area (m2)</td>\n",
       "      <td>Opening hours</td>\n",
       "    </tr>\n",
       "    <tr>\n",
       "      <th>1</th>\n",
       "      <td>10.2016</td>\n",
       "      <td>1</td>\n",
       "      <td>United Kingdom</td>\n",
       "      <td>88253</td>\n",
       "      <td>London (I)</td>\n",
       "      <td>1</td>\n",
       "      <td>Dry</td>\n",
       "      <td>3184.764</td>\n",
       "      <td>0</td>\n",
       "      <td>398560</td>\n",
       "      <td>1226244</td>\n",
       "      <td>NaN</td>\n",
       "      <td>953.04</td>\n",
       "      <td>Type A</td>\n",
       "    </tr>\n",
       "    <tr>\n",
       "      <th>2</th>\n",
       "      <td>10.2016</td>\n",
       "      <td>1</td>\n",
       "      <td>United Kingdom</td>\n",
       "      <td>88253</td>\n",
       "      <td>London (I)</td>\n",
       "      <td>2</td>\n",
       "      <td>Frozen</td>\n",
       "      <td>1582.941</td>\n",
       "      <td>0</td>\n",
       "      <td>82725</td>\n",
       "      <td>387810</td>\n",
       "      <td>NaN</td>\n",
       "      <td>720.48</td>\n",
       "      <td>Type A</td>\n",
       "    </tr>\n",
       "    <tr>\n",
       "      <th>3</th>\n",
       "      <td>10.2016</td>\n",
       "      <td>1</td>\n",
       "      <td>United Kingdom</td>\n",
       "      <td>88253</td>\n",
       "      <td>London (I)</td>\n",
       "      <td>3</td>\n",
       "      <td>other</td>\n",
       "      <td>47.205</td>\n",
       "      <td>0</td>\n",
       "      <td>438400</td>\n",
       "      <td>654657</td>\n",
       "      <td>NaN</td>\n",
       "      <td>966.72</td>\n",
       "      <td>Type A</td>\n",
       "    </tr>\n",
       "    <tr>\n",
       "      <th>4</th>\n",
       "      <td>10.2016</td>\n",
       "      <td>1</td>\n",
       "      <td>United Kingdom</td>\n",
       "      <td>88253</td>\n",
       "      <td>London (I)</td>\n",
       "      <td>4</td>\n",
       "      <td>Fish</td>\n",
       "      <td>1623.852</td>\n",
       "      <td>0</td>\n",
       "      <td>309425</td>\n",
       "      <td>499434</td>\n",
       "      <td>NaN</td>\n",
       "      <td>1053.36</td>\n",
       "      <td>Type A</td>\n",
       "    </tr>\n",
       "    <tr>\n",
       "      <th>...</th>\n",
       "      <td>...</td>\n",
       "      <td>...</td>\n",
       "      <td>...</td>\n",
       "      <td>...</td>\n",
       "      <td>...</td>\n",
       "      <td>...</td>\n",
       "      <td>...</td>\n",
       "      <td>...</td>\n",
       "      <td>...</td>\n",
       "      <td>...</td>\n",
       "      <td>...</td>\n",
       "      <td>...</td>\n",
       "      <td>...</td>\n",
       "      <td>...</td>\n",
       "    </tr>\n",
       "    <tr>\n",
       "      <th>7654</th>\n",
       "      <td>06.2017</td>\n",
       "      <td>9</td>\n",
       "      <td>Sweden</td>\n",
       "      <td>29650</td>\n",
       "      <td>Gothenburg</td>\n",
       "      <td>12</td>\n",
       "      <td>Checkout</td>\n",
       "      <td>6322.323</td>\n",
       "      <td>0</td>\n",
       "      <td>3886530</td>\n",
       "      <td>14538825</td>\n",
       "      <td>NaN</td>\n",
       "      <td>#NV</td>\n",
       "      <td>Type A</td>\n",
       "    </tr>\n",
       "    <tr>\n",
       "      <th>7655</th>\n",
       "      <td>06.2017</td>\n",
       "      <td>9</td>\n",
       "      <td>Sweden</td>\n",
       "      <td>29650</td>\n",
       "      <td>Gothenburg</td>\n",
       "      <td>16</td>\n",
       "      <td>Customer Services</td>\n",
       "      <td>4270.479</td>\n",
       "      <td>0</td>\n",
       "      <td>245</td>\n",
       "      <td>0</td>\n",
       "      <td>NaN</td>\n",
       "      <td>#NV</td>\n",
       "      <td>Type A</td>\n",
       "    </tr>\n",
       "    <tr>\n",
       "      <th>7656</th>\n",
       "      <td>06.2017</td>\n",
       "      <td>9</td>\n",
       "      <td>Sweden</td>\n",
       "      <td>29650</td>\n",
       "      <td>Gothenburg</td>\n",
       "      <td>11</td>\n",
       "      <td>Delivery</td>\n",
       "      <td>0</td>\n",
       "      <td>0</td>\n",
       "      <td>0</td>\n",
       "      <td>0</td>\n",
       "      <td>NaN</td>\n",
       "      <td>#NV</td>\n",
       "      <td>Type A</td>\n",
       "    </tr>\n",
       "    <tr>\n",
       "      <th>7657</th>\n",
       "      <td>06.2017</td>\n",
       "      <td>9</td>\n",
       "      <td>Sweden</td>\n",
       "      <td>29650</td>\n",
       "      <td>Gothenburg</td>\n",
       "      <td>17</td>\n",
       "      <td>others</td>\n",
       "      <td>2224.929</td>\n",
       "      <td>0</td>\n",
       "      <td>245</td>\n",
       "      <td>0</td>\n",
       "      <td>NaN</td>\n",
       "      <td>#NV</td>\n",
       "      <td>Type A</td>\n",
       "    </tr>\n",
       "    <tr>\n",
       "      <th>7658</th>\n",
       "      <td>06.2017</td>\n",
       "      <td>9</td>\n",
       "      <td>Sweden</td>\n",
       "      <td>29650</td>\n",
       "      <td>Gothenburg</td>\n",
       "      <td>18</td>\n",
       "      <td>all</td>\n",
       "      <td>39652.2</td>\n",
       "      <td>0</td>\n",
       "      <td>3886530</td>\n",
       "      <td>15056214</td>\n",
       "      <td>NaN</td>\n",
       "      <td>#NV</td>\n",
       "      <td>Type A</td>\n",
       "    </tr>\n",
       "  </tbody>\n",
       "</table>\n",
       "<p>7659 rows × 14 columns</p>\n",
       "</div>"
      ],
      "text/plain": [
       "     Unnamed: 0  Unnamed: 1      Unnamed: 2 Unnamed: 3  Unnamed: 4 Unnamed: 5  \\\n",
       "0     MonthYear  Time index         Country    StoreID        City    Dept_ID   \n",
       "1       10.2016           1  United Kingdom      88253  London (I)          1   \n",
       "2       10.2016           1  United Kingdom      88253  London (I)          2   \n",
       "3       10.2016           1  United Kingdom      88253  London (I)          3   \n",
       "4       10.2016           1  United Kingdom      88253  London (I)          4   \n",
       "...         ...         ...             ...        ...         ...        ...   \n",
       "7654    06.2017           9          Sweden      29650  Gothenburg         12   \n",
       "7655    06.2017           9          Sweden      29650  Gothenburg         16   \n",
       "7656    06.2017           9          Sweden      29650  Gothenburg         11   \n",
       "7657    06.2017           9          Sweden      29650  Gothenburg         17   \n",
       "7658    06.2017           9          Sweden      29650  Gothenburg         18   \n",
       "\n",
       "             Unnamed: 6 Unnamed: 7  Unnamed: 8   Unnamed: 9 Unnamed: 10  \\\n",
       "0            Dept. Name   HoursOwn  HoursLease  Sales units    Turnover   \n",
       "1                   Dry   3184.764           0       398560     1226244   \n",
       "2                Frozen   1582.941           0        82725      387810   \n",
       "3                 other     47.205           0       438400      654657   \n",
       "4                  Fish   1623.852           0       309425      499434   \n",
       "...                 ...        ...         ...          ...         ...   \n",
       "7654           Checkout   6322.323           0      3886530    14538825   \n",
       "7655  Customer Services   4270.479           0          245           0   \n",
       "7656           Delivery          0           0            0           0   \n",
       "7657             others   2224.929           0          245           0   \n",
       "7658                all    39652.2           0      3886530    15056214   \n",
       "\n",
       "     Unnamed: 11 Unnamed: 12    Unnamed: 13  \n",
       "0       Customer   Area (m2)  Opening hours  \n",
       "1            NaN      953.04         Type A  \n",
       "2            NaN      720.48         Type A  \n",
       "3            NaN      966.72         Type A  \n",
       "4            NaN     1053.36         Type A  \n",
       "...          ...         ...            ...  \n",
       "7654         NaN         #NV         Type A  \n",
       "7655         NaN         #NV         Type A  \n",
       "7656         NaN         #NV         Type A  \n",
       "7657         NaN         #NV         Type A  \n",
       "7658         NaN         #NV         Type A  \n",
       "\n",
       "[7659 rows x 14 columns]"
      ]
     },
     "execution_count": 156,
     "metadata": {},
     "output_type": "execute_result"
    }
   ],
   "source": [
    "z1=pd.read_excel(\"/Users/teja/Desktop/6_salesworkload.xlsx\")\n",
    "z1"
   ]
  },
  {
   "cell_type": "code",
   "execution_count": 157,
   "id": "3171d351",
   "metadata": {},
   "outputs": [
    {
     "name": "stdout",
     "output_type": "stream",
     "text": [
      "       Unnamed: 0  Unnamed: 1      Unnamed: 2  Unnamed: 3     Unnamed: 4  \\\n",
      "count        7659        7651            7651        7651           7651   \n",
      "unique         11          10              12          51             51   \n",
      "top       10.2016           1  United Kingdom       16927  Barcelona (I)   \n",
      "freq          850         850             918         153            153   \n",
      "\n",
      "        Unnamed: 5 Unnamed: 6  Unnamed: 7  Unnamed: 8  Unnamed: 9  \\\n",
      "count         7651       7651    7651.000        7651        7651   \n",
      "unique          18         18    3506.000         224        5659   \n",
      "top              8  Household      47.205           0           0   \n",
      "freq           450        450     450.000        7172         157   \n",
      "\n",
      "        Unnamed: 10 Unnamed: 11  Unnamed: 12 Unnamed: 13  \n",
      "count          7651           1         7651        7651  \n",
      "unique         5905           1         2827           4  \n",
      "top               0    Customer            0      Type A  \n",
      "freq           1480           1         1600        5661  \n"
     ]
    }
   ],
   "source": [
    "print(z1.describe())"
   ]
  },
  {
   "cell_type": "code",
   "execution_count": 158,
   "id": "82384786",
   "metadata": {},
   "outputs": [
    {
     "data": {
      "text/html": [
       "<div>\n",
       "<style scoped>\n",
       "    .dataframe tbody tr th:only-of-type {\n",
       "        vertical-align: middle;\n",
       "    }\n",
       "\n",
       "    .dataframe tbody tr th {\n",
       "        vertical-align: top;\n",
       "    }\n",
       "\n",
       "    .dataframe thead th {\n",
       "        text-align: right;\n",
       "    }\n",
       "</style>\n",
       "<table border=\"1\" class=\"dataframe\">\n",
       "  <thead>\n",
       "    <tr style=\"text-align: right;\">\n",
       "      <th></th>\n",
       "      <th>Unnamed: 0</th>\n",
       "      <th>Unnamed: 1</th>\n",
       "      <th>Unnamed: 2</th>\n",
       "      <th>Unnamed: 3</th>\n",
       "      <th>Unnamed: 4</th>\n",
       "      <th>Unnamed: 5</th>\n",
       "      <th>Unnamed: 6</th>\n",
       "      <th>Unnamed: 7</th>\n",
       "      <th>Unnamed: 8</th>\n",
       "      <th>Unnamed: 9</th>\n",
       "      <th>Unnamed: 10</th>\n",
       "      <th>Unnamed: 11</th>\n",
       "      <th>Unnamed: 12</th>\n",
       "      <th>Unnamed: 13</th>\n",
       "    </tr>\n",
       "  </thead>\n",
       "  <tbody>\n",
       "    <tr>\n",
       "      <th>0</th>\n",
       "      <td>MonthYear</td>\n",
       "      <td>Time index</td>\n",
       "      <td>Country</td>\n",
       "      <td>StoreID</td>\n",
       "      <td>City</td>\n",
       "      <td>Dept_ID</td>\n",
       "      <td>Dept. Name</td>\n",
       "      <td>HoursOwn</td>\n",
       "      <td>HoursLease</td>\n",
       "      <td>Sales units</td>\n",
       "      <td>Turnover</td>\n",
       "      <td>Customer</td>\n",
       "      <td>Area (m2)</td>\n",
       "      <td>Opening hours</td>\n",
       "    </tr>\n",
       "    <tr>\n",
       "      <th>1</th>\n",
       "      <td>10.2016</td>\n",
       "      <td>1</td>\n",
       "      <td>United Kingdom</td>\n",
       "      <td>88253</td>\n",
       "      <td>London (I)</td>\n",
       "      <td>1</td>\n",
       "      <td>Dry</td>\n",
       "      <td>3184.764</td>\n",
       "      <td>0</td>\n",
       "      <td>398560</td>\n",
       "      <td>1226244</td>\n",
       "      <td>NaN</td>\n",
       "      <td>953.04</td>\n",
       "      <td>Type A</td>\n",
       "    </tr>\n",
       "    <tr>\n",
       "      <th>2</th>\n",
       "      <td>10.2016</td>\n",
       "      <td>1</td>\n",
       "      <td>United Kingdom</td>\n",
       "      <td>88253</td>\n",
       "      <td>London (I)</td>\n",
       "      <td>2</td>\n",
       "      <td>Frozen</td>\n",
       "      <td>1582.941</td>\n",
       "      <td>0</td>\n",
       "      <td>82725</td>\n",
       "      <td>387810</td>\n",
       "      <td>NaN</td>\n",
       "      <td>720.48</td>\n",
       "      <td>Type A</td>\n",
       "    </tr>\n",
       "    <tr>\n",
       "      <th>3</th>\n",
       "      <td>10.2016</td>\n",
       "      <td>1</td>\n",
       "      <td>United Kingdom</td>\n",
       "      <td>88253</td>\n",
       "      <td>London (I)</td>\n",
       "      <td>3</td>\n",
       "      <td>other</td>\n",
       "      <td>47.205</td>\n",
       "      <td>0</td>\n",
       "      <td>438400</td>\n",
       "      <td>654657</td>\n",
       "      <td>NaN</td>\n",
       "      <td>966.72</td>\n",
       "      <td>Type A</td>\n",
       "    </tr>\n",
       "    <tr>\n",
       "      <th>4</th>\n",
       "      <td>10.2016</td>\n",
       "      <td>1</td>\n",
       "      <td>United Kingdom</td>\n",
       "      <td>88253</td>\n",
       "      <td>London (I)</td>\n",
       "      <td>4</td>\n",
       "      <td>Fish</td>\n",
       "      <td>1623.852</td>\n",
       "      <td>0</td>\n",
       "      <td>309425</td>\n",
       "      <td>499434</td>\n",
       "      <td>NaN</td>\n",
       "      <td>1053.36</td>\n",
       "      <td>Type A</td>\n",
       "    </tr>\n",
       "    <tr>\n",
       "      <th>...</th>\n",
       "      <td>...</td>\n",
       "      <td>...</td>\n",
       "      <td>...</td>\n",
       "      <td>...</td>\n",
       "      <td>...</td>\n",
       "      <td>...</td>\n",
       "      <td>...</td>\n",
       "      <td>...</td>\n",
       "      <td>...</td>\n",
       "      <td>...</td>\n",
       "      <td>...</td>\n",
       "      <td>...</td>\n",
       "      <td>...</td>\n",
       "      <td>...</td>\n",
       "    </tr>\n",
       "    <tr>\n",
       "      <th>7654</th>\n",
       "      <td>06.2017</td>\n",
       "      <td>9</td>\n",
       "      <td>Sweden</td>\n",
       "      <td>29650</td>\n",
       "      <td>Gothenburg</td>\n",
       "      <td>12</td>\n",
       "      <td>Checkout</td>\n",
       "      <td>6322.323</td>\n",
       "      <td>0</td>\n",
       "      <td>3886530</td>\n",
       "      <td>14538825</td>\n",
       "      <td>NaN</td>\n",
       "      <td>#NV</td>\n",
       "      <td>Type A</td>\n",
       "    </tr>\n",
       "    <tr>\n",
       "      <th>7655</th>\n",
       "      <td>06.2017</td>\n",
       "      <td>9</td>\n",
       "      <td>Sweden</td>\n",
       "      <td>29650</td>\n",
       "      <td>Gothenburg</td>\n",
       "      <td>16</td>\n",
       "      <td>Customer Services</td>\n",
       "      <td>4270.479</td>\n",
       "      <td>0</td>\n",
       "      <td>245</td>\n",
       "      <td>0</td>\n",
       "      <td>NaN</td>\n",
       "      <td>#NV</td>\n",
       "      <td>Type A</td>\n",
       "    </tr>\n",
       "    <tr>\n",
       "      <th>7656</th>\n",
       "      <td>06.2017</td>\n",
       "      <td>9</td>\n",
       "      <td>Sweden</td>\n",
       "      <td>29650</td>\n",
       "      <td>Gothenburg</td>\n",
       "      <td>11</td>\n",
       "      <td>Delivery</td>\n",
       "      <td>0</td>\n",
       "      <td>0</td>\n",
       "      <td>0</td>\n",
       "      <td>0</td>\n",
       "      <td>NaN</td>\n",
       "      <td>#NV</td>\n",
       "      <td>Type A</td>\n",
       "    </tr>\n",
       "    <tr>\n",
       "      <th>7657</th>\n",
       "      <td>06.2017</td>\n",
       "      <td>9</td>\n",
       "      <td>Sweden</td>\n",
       "      <td>29650</td>\n",
       "      <td>Gothenburg</td>\n",
       "      <td>17</td>\n",
       "      <td>others</td>\n",
       "      <td>2224.929</td>\n",
       "      <td>0</td>\n",
       "      <td>245</td>\n",
       "      <td>0</td>\n",
       "      <td>NaN</td>\n",
       "      <td>#NV</td>\n",
       "      <td>Type A</td>\n",
       "    </tr>\n",
       "    <tr>\n",
       "      <th>7658</th>\n",
       "      <td>06.2017</td>\n",
       "      <td>9</td>\n",
       "      <td>Sweden</td>\n",
       "      <td>29650</td>\n",
       "      <td>Gothenburg</td>\n",
       "      <td>18</td>\n",
       "      <td>all</td>\n",
       "      <td>39652.2</td>\n",
       "      <td>0</td>\n",
       "      <td>3886530</td>\n",
       "      <td>15056214</td>\n",
       "      <td>NaN</td>\n",
       "      <td>#NV</td>\n",
       "      <td>Type A</td>\n",
       "    </tr>\n",
       "  </tbody>\n",
       "</table>\n",
       "<p>7659 rows × 14 columns</p>\n",
       "</div>"
      ],
      "text/plain": [
       "     Unnamed: 0  Unnamed: 1      Unnamed: 2 Unnamed: 3  Unnamed: 4 Unnamed: 5  \\\n",
       "0     MonthYear  Time index         Country    StoreID        City    Dept_ID   \n",
       "1       10.2016           1  United Kingdom      88253  London (I)          1   \n",
       "2       10.2016           1  United Kingdom      88253  London (I)          2   \n",
       "3       10.2016           1  United Kingdom      88253  London (I)          3   \n",
       "4       10.2016           1  United Kingdom      88253  London (I)          4   \n",
       "...         ...         ...             ...        ...         ...        ...   \n",
       "7654    06.2017           9          Sweden      29650  Gothenburg         12   \n",
       "7655    06.2017           9          Sweden      29650  Gothenburg         16   \n",
       "7656    06.2017           9          Sweden      29650  Gothenburg         11   \n",
       "7657    06.2017           9          Sweden      29650  Gothenburg         17   \n",
       "7658    06.2017           9          Sweden      29650  Gothenburg         18   \n",
       "\n",
       "             Unnamed: 6 Unnamed: 7  Unnamed: 8   Unnamed: 9 Unnamed: 10  \\\n",
       "0            Dept. Name   HoursOwn  HoursLease  Sales units    Turnover   \n",
       "1                   Dry   3184.764           0       398560     1226244   \n",
       "2                Frozen   1582.941           0        82725      387810   \n",
       "3                 other     47.205           0       438400      654657   \n",
       "4                  Fish   1623.852           0       309425      499434   \n",
       "...                 ...        ...         ...          ...         ...   \n",
       "7654           Checkout   6322.323           0      3886530    14538825   \n",
       "7655  Customer Services   4270.479           0          245           0   \n",
       "7656           Delivery          0           0            0           0   \n",
       "7657             others   2224.929           0          245           0   \n",
       "7658                all    39652.2           0      3886530    15056214   \n",
       "\n",
       "     Unnamed: 11 Unnamed: 12    Unnamed: 13  \n",
       "0       Customer   Area (m2)  Opening hours  \n",
       "1            NaN      953.04         Type A  \n",
       "2            NaN      720.48         Type A  \n",
       "3            NaN      966.72         Type A  \n",
       "4            NaN     1053.36         Type A  \n",
       "...          ...         ...            ...  \n",
       "7654         NaN         #NV         Type A  \n",
       "7655         NaN         #NV         Type A  \n",
       "7656         NaN         #NV         Type A  \n",
       "7657         NaN         #NV         Type A  \n",
       "7658         NaN         #NV         Type A  \n",
       "\n",
       "[7659 rows x 14 columns]"
      ]
     },
     "execution_count": 158,
     "metadata": {},
     "output_type": "execute_result"
    }
   ],
   "source": [
    "df3=z1[[\"Unnamed: 0\",\"Unnamed: 1\",\"Unnamed: 2\",\"Unnamed: 3\",\"Unnamed: 4\",\"Unnamed: 5\",\"Unnamed: 6\",\"Unnamed: 7\",\"Unnamed: 8\",\"Unnamed: 9\",\"Unnamed: 10\",\"Unnamed: 11\",\"Unnamed: 12\",\"Unnamed: 13\"]]\n",
    "df3"
   ]
  },
  {
   "cell_type": "code",
   "execution_count": 159,
   "id": "02747136",
   "metadata": {},
   "outputs": [
    {
     "data": {
      "text/html": [
       "<div>\n",
       "<style scoped>\n",
       "    .dataframe tbody tr th:only-of-type {\n",
       "        vertical-align: middle;\n",
       "    }\n",
       "\n",
       "    .dataframe tbody tr th {\n",
       "        vertical-align: top;\n",
       "    }\n",
       "\n",
       "    .dataframe thead th {\n",
       "        text-align: right;\n",
       "    }\n",
       "</style>\n",
       "<table border=\"1\" class=\"dataframe\">\n",
       "  <thead>\n",
       "    <tr style=\"text-align: right;\">\n",
       "      <th></th>\n",
       "      <th>Unnamed: 0</th>\n",
       "      <th>Unnamed: 1</th>\n",
       "      <th>Unnamed: 3</th>\n",
       "      <th>Unnamed: 5</th>\n",
       "      <th>Unnamed: 7</th>\n",
       "      <th>Unnamed: 8</th>\n",
       "      <th>Unnamed: 9</th>\n",
       "      <th>Unnamed: 10</th>\n",
       "    </tr>\n",
       "  </thead>\n",
       "  <tbody>\n",
       "    <tr>\n",
       "      <th>0</th>\n",
       "      <td>MonthYear</td>\n",
       "      <td>Time index</td>\n",
       "      <td>StoreID</td>\n",
       "      <td>Dept_ID</td>\n",
       "      <td>HoursOwn</td>\n",
       "      <td>HoursLease</td>\n",
       "      <td>Sales units</td>\n",
       "      <td>Turnover</td>\n",
       "    </tr>\n",
       "    <tr>\n",
       "      <th>1</th>\n",
       "      <td>10.2016</td>\n",
       "      <td>1</td>\n",
       "      <td>88253</td>\n",
       "      <td>1</td>\n",
       "      <td>3184.764</td>\n",
       "      <td>0</td>\n",
       "      <td>398560</td>\n",
       "      <td>1226244</td>\n",
       "    </tr>\n",
       "    <tr>\n",
       "      <th>2</th>\n",
       "      <td>10.2016</td>\n",
       "      <td>1</td>\n",
       "      <td>88253</td>\n",
       "      <td>2</td>\n",
       "      <td>1582.941</td>\n",
       "      <td>0</td>\n",
       "      <td>82725</td>\n",
       "      <td>387810</td>\n",
       "    </tr>\n",
       "    <tr>\n",
       "      <th>3</th>\n",
       "      <td>10.2016</td>\n",
       "      <td>1</td>\n",
       "      <td>88253</td>\n",
       "      <td>3</td>\n",
       "      <td>47.205</td>\n",
       "      <td>0</td>\n",
       "      <td>438400</td>\n",
       "      <td>654657</td>\n",
       "    </tr>\n",
       "    <tr>\n",
       "      <th>4</th>\n",
       "      <td>10.2016</td>\n",
       "      <td>1</td>\n",
       "      <td>88253</td>\n",
       "      <td>4</td>\n",
       "      <td>1623.852</td>\n",
       "      <td>0</td>\n",
       "      <td>309425</td>\n",
       "      <td>499434</td>\n",
       "    </tr>\n",
       "    <tr>\n",
       "      <th>...</th>\n",
       "      <td>...</td>\n",
       "      <td>...</td>\n",
       "      <td>...</td>\n",
       "      <td>...</td>\n",
       "      <td>...</td>\n",
       "      <td>...</td>\n",
       "      <td>...</td>\n",
       "      <td>...</td>\n",
       "    </tr>\n",
       "    <tr>\n",
       "      <th>7654</th>\n",
       "      <td>06.2017</td>\n",
       "      <td>9</td>\n",
       "      <td>29650</td>\n",
       "      <td>12</td>\n",
       "      <td>6322.323</td>\n",
       "      <td>0</td>\n",
       "      <td>3886530</td>\n",
       "      <td>14538825</td>\n",
       "    </tr>\n",
       "    <tr>\n",
       "      <th>7655</th>\n",
       "      <td>06.2017</td>\n",
       "      <td>9</td>\n",
       "      <td>29650</td>\n",
       "      <td>16</td>\n",
       "      <td>4270.479</td>\n",
       "      <td>0</td>\n",
       "      <td>245</td>\n",
       "      <td>0</td>\n",
       "    </tr>\n",
       "    <tr>\n",
       "      <th>7656</th>\n",
       "      <td>06.2017</td>\n",
       "      <td>9</td>\n",
       "      <td>29650</td>\n",
       "      <td>11</td>\n",
       "      <td>0</td>\n",
       "      <td>0</td>\n",
       "      <td>0</td>\n",
       "      <td>0</td>\n",
       "    </tr>\n",
       "    <tr>\n",
       "      <th>7657</th>\n",
       "      <td>06.2017</td>\n",
       "      <td>9</td>\n",
       "      <td>29650</td>\n",
       "      <td>17</td>\n",
       "      <td>2224.929</td>\n",
       "      <td>0</td>\n",
       "      <td>245</td>\n",
       "      <td>0</td>\n",
       "    </tr>\n",
       "    <tr>\n",
       "      <th>7658</th>\n",
       "      <td>06.2017</td>\n",
       "      <td>9</td>\n",
       "      <td>29650</td>\n",
       "      <td>18</td>\n",
       "      <td>39652.2</td>\n",
       "      <td>0</td>\n",
       "      <td>3886530</td>\n",
       "      <td>15056214</td>\n",
       "    </tr>\n",
       "  </tbody>\n",
       "</table>\n",
       "<p>7659 rows × 8 columns</p>\n",
       "</div>"
      ],
      "text/plain": [
       "     Unnamed: 0  Unnamed: 1 Unnamed: 3 Unnamed: 5 Unnamed: 7  Unnamed: 8  \\\n",
       "0     MonthYear  Time index    StoreID    Dept_ID   HoursOwn  HoursLease   \n",
       "1       10.2016           1      88253          1   3184.764           0   \n",
       "2       10.2016           1      88253          2   1582.941           0   \n",
       "3       10.2016           1      88253          3     47.205           0   \n",
       "4       10.2016           1      88253          4   1623.852           0   \n",
       "...         ...         ...        ...        ...        ...         ...   \n",
       "7654    06.2017           9      29650         12   6322.323           0   \n",
       "7655    06.2017           9      29650         16   4270.479           0   \n",
       "7656    06.2017           9      29650         11          0           0   \n",
       "7657    06.2017           9      29650         17   2224.929           0   \n",
       "7658    06.2017           9      29650         18    39652.2           0   \n",
       "\n",
       "       Unnamed: 9 Unnamed: 10  \n",
       "0     Sales units    Turnover  \n",
       "1          398560     1226244  \n",
       "2           82725      387810  \n",
       "3          438400      654657  \n",
       "4          309425      499434  \n",
       "...           ...         ...  \n",
       "7654      3886530    14538825  \n",
       "7655          245           0  \n",
       "7656            0           0  \n",
       "7657          245           0  \n",
       "7658      3886530    15056214  \n",
       "\n",
       "[7659 rows x 8 columns]"
      ]
     },
     "execution_count": 159,
     "metadata": {},
     "output_type": "execute_result"
    }
   ],
   "source": [
    "data3=df3.drop(columns=[\"Unnamed: 2\",\"Unnamed: 4\",\"Unnamed: 6\",\"Unnamed: 11\",\"Unnamed: 13\",\"Unnamed: 12\"])\n",
    "data3"
   ]
  },
  {
   "cell_type": "code",
   "execution_count": 160,
   "id": "95e81fdf",
   "metadata": {},
   "outputs": [],
   "source": [
    "data3=data3.drop(index=0)"
   ]
  },
  {
   "cell_type": "code",
   "execution_count": 161,
   "id": "5832929e",
   "metadata": {},
   "outputs": [
    {
     "data": {
      "text/html": [
       "<div>\n",
       "<style scoped>\n",
       "    .dataframe tbody tr th:only-of-type {\n",
       "        vertical-align: middle;\n",
       "    }\n",
       "\n",
       "    .dataframe tbody tr th {\n",
       "        vertical-align: top;\n",
       "    }\n",
       "\n",
       "    .dataframe thead th {\n",
       "        text-align: right;\n",
       "    }\n",
       "</style>\n",
       "<table border=\"1\" class=\"dataframe\">\n",
       "  <thead>\n",
       "    <tr style=\"text-align: right;\">\n",
       "      <th></th>\n",
       "      <th>Unnamed: 0</th>\n",
       "      <th>Unnamed: 1</th>\n",
       "      <th>Unnamed: 3</th>\n",
       "      <th>Unnamed: 5</th>\n",
       "      <th>Unnamed: 7</th>\n",
       "      <th>Unnamed: 8</th>\n",
       "      <th>Unnamed: 9</th>\n",
       "      <th>Unnamed: 10</th>\n",
       "    </tr>\n",
       "  </thead>\n",
       "  <tbody>\n",
       "    <tr>\n",
       "      <th>1</th>\n",
       "      <td>10.2016</td>\n",
       "      <td>1</td>\n",
       "      <td>88253</td>\n",
       "      <td>1</td>\n",
       "      <td>3184.764</td>\n",
       "      <td>0</td>\n",
       "      <td>398560</td>\n",
       "      <td>1226244</td>\n",
       "    </tr>\n",
       "    <tr>\n",
       "      <th>2</th>\n",
       "      <td>10.2016</td>\n",
       "      <td>1</td>\n",
       "      <td>88253</td>\n",
       "      <td>2</td>\n",
       "      <td>1582.941</td>\n",
       "      <td>0</td>\n",
       "      <td>82725</td>\n",
       "      <td>387810</td>\n",
       "    </tr>\n",
       "    <tr>\n",
       "      <th>3</th>\n",
       "      <td>10.2016</td>\n",
       "      <td>1</td>\n",
       "      <td>88253</td>\n",
       "      <td>3</td>\n",
       "      <td>47.205</td>\n",
       "      <td>0</td>\n",
       "      <td>438400</td>\n",
       "      <td>654657</td>\n",
       "    </tr>\n",
       "    <tr>\n",
       "      <th>4</th>\n",
       "      <td>10.2016</td>\n",
       "      <td>1</td>\n",
       "      <td>88253</td>\n",
       "      <td>4</td>\n",
       "      <td>1623.852</td>\n",
       "      <td>0</td>\n",
       "      <td>309425</td>\n",
       "      <td>499434</td>\n",
       "    </tr>\n",
       "    <tr>\n",
       "      <th>5</th>\n",
       "      <td>10.2016</td>\n",
       "      <td>1</td>\n",
       "      <td>88253</td>\n",
       "      <td>5</td>\n",
       "      <td>1759.173</td>\n",
       "      <td>0</td>\n",
       "      <td>165515</td>\n",
       "      <td>329397</td>\n",
       "    </tr>\n",
       "    <tr>\n",
       "      <th>...</th>\n",
       "      <td>...</td>\n",
       "      <td>...</td>\n",
       "      <td>...</td>\n",
       "      <td>...</td>\n",
       "      <td>...</td>\n",
       "      <td>...</td>\n",
       "      <td>...</td>\n",
       "      <td>...</td>\n",
       "    </tr>\n",
       "    <tr>\n",
       "      <th>7654</th>\n",
       "      <td>06.2017</td>\n",
       "      <td>9</td>\n",
       "      <td>29650</td>\n",
       "      <td>12</td>\n",
       "      <td>6322.323</td>\n",
       "      <td>0</td>\n",
       "      <td>3886530</td>\n",
       "      <td>14538825</td>\n",
       "    </tr>\n",
       "    <tr>\n",
       "      <th>7655</th>\n",
       "      <td>06.2017</td>\n",
       "      <td>9</td>\n",
       "      <td>29650</td>\n",
       "      <td>16</td>\n",
       "      <td>4270.479</td>\n",
       "      <td>0</td>\n",
       "      <td>245</td>\n",
       "      <td>0</td>\n",
       "    </tr>\n",
       "    <tr>\n",
       "      <th>7656</th>\n",
       "      <td>06.2017</td>\n",
       "      <td>9</td>\n",
       "      <td>29650</td>\n",
       "      <td>11</td>\n",
       "      <td>0</td>\n",
       "      <td>0</td>\n",
       "      <td>0</td>\n",
       "      <td>0</td>\n",
       "    </tr>\n",
       "    <tr>\n",
       "      <th>7657</th>\n",
       "      <td>06.2017</td>\n",
       "      <td>9</td>\n",
       "      <td>29650</td>\n",
       "      <td>17</td>\n",
       "      <td>2224.929</td>\n",
       "      <td>0</td>\n",
       "      <td>245</td>\n",
       "      <td>0</td>\n",
       "    </tr>\n",
       "    <tr>\n",
       "      <th>7658</th>\n",
       "      <td>06.2017</td>\n",
       "      <td>9</td>\n",
       "      <td>29650</td>\n",
       "      <td>18</td>\n",
       "      <td>39652.2</td>\n",
       "      <td>0</td>\n",
       "      <td>3886530</td>\n",
       "      <td>15056214</td>\n",
       "    </tr>\n",
       "  </tbody>\n",
       "</table>\n",
       "<p>7658 rows × 8 columns</p>\n",
       "</div>"
      ],
      "text/plain": [
       "     Unnamed: 0 Unnamed: 1 Unnamed: 3 Unnamed: 5 Unnamed: 7 Unnamed: 8  \\\n",
       "1       10.2016          1      88253          1   3184.764          0   \n",
       "2       10.2016          1      88253          2   1582.941          0   \n",
       "3       10.2016          1      88253          3     47.205          0   \n",
       "4       10.2016          1      88253          4   1623.852          0   \n",
       "5       10.2016          1      88253          5   1759.173          0   \n",
       "...         ...        ...        ...        ...        ...        ...   \n",
       "7654    06.2017          9      29650         12   6322.323          0   \n",
       "7655    06.2017          9      29650         16   4270.479          0   \n",
       "7656    06.2017          9      29650         11          0          0   \n",
       "7657    06.2017          9      29650         17   2224.929          0   \n",
       "7658    06.2017          9      29650         18    39652.2          0   \n",
       "\n",
       "     Unnamed: 9 Unnamed: 10  \n",
       "1        398560     1226244  \n",
       "2         82725      387810  \n",
       "3        438400      654657  \n",
       "4        309425      499434  \n",
       "5        165515      329397  \n",
       "...         ...         ...  \n",
       "7654    3886530    14538825  \n",
       "7655        245           0  \n",
       "7656          0           0  \n",
       "7657        245           0  \n",
       "7658    3886530    15056214  \n",
       "\n",
       "[7658 rows x 8 columns]"
      ]
     },
     "execution_count": 161,
     "metadata": {},
     "output_type": "execute_result"
    }
   ],
   "source": [
    "data3"
   ]
  },
  {
   "cell_type": "code",
   "execution_count": 162,
   "id": "2fe84bd7",
   "metadata": {},
   "outputs": [
    {
     "name": "stdout",
     "output_type": "stream",
     "text": [
      "Unnamed: 1     5.000000e+00\n",
      "Unnamed: 3     6.199522e+04\n",
      "Unnamed: 5     9.470588e+00\n",
      "Unnamed: 8     2.203608e+01\n",
      "Unnamed: 9     1.076471e+06\n",
      "Unnamed: 10    3.721393e+06\n",
      "dtype: float64\n"
     ]
    },
    {
     "name": "stderr",
     "output_type": "stream",
     "text": [
      "/var/folders/kc/f_2rv2sn30780xky6ysplv4c0000gn/T/ipykernel_2063/3658844921.py:1: FutureWarning: The default value of numeric_only in DataFrame.mean is deprecated. In a future version, it will default to False. In addition, specifying 'numeric_only=None' is deprecated. Select only valid columns or specify the value of numeric_only to silence this warning.\n",
      "  print(data3.mean())\n"
     ]
    }
   ],
   "source": [
    "print(data3.mean())"
   ]
  },
  {
   "cell_type": "code",
   "execution_count": 163,
   "id": "c273cdf1",
   "metadata": {},
   "outputs": [
    {
     "name": "stdout",
     "output_type": "stream",
     "text": [
      "Unnamed: 1          5.0\n",
      "Unnamed: 3      75400.5\n",
      "Unnamed: 5          9.0\n",
      "Unnamed: 8          0.0\n",
      "Unnamed: 9     293230.0\n",
      "Unnamed: 10    931957.5\n",
      "dtype: float64\n"
     ]
    },
    {
     "name": "stderr",
     "output_type": "stream",
     "text": [
      "/var/folders/kc/f_2rv2sn30780xky6ysplv4c0000gn/T/ipykernel_2063/3759872012.py:1: FutureWarning: The default value of numeric_only in DataFrame.median is deprecated. In a future version, it will default to False. In addition, specifying 'numeric_only=None' is deprecated. Select only valid columns or specify the value of numeric_only to silence this warning.\n",
      "  print(data3.median())\n"
     ]
    }
   ],
   "source": [
    "print(data3.median())"
   ]
  },
  {
   "cell_type": "code",
   "execution_count": 164,
   "id": "f828c61d",
   "metadata": {},
   "outputs": [
    {
     "name": "stdout",
     "output_type": "stream",
     "text": [
      "   Unnamed: 0 Unnamed: 1 Unnamed: 3 Unnamed: 5 Unnamed: 7 Unnamed: 8  \\\n",
      "0     01.2017          1      12227          1     47.205          0   \n",
      "1     02.2017          2      15552          2        NaN        NaN   \n",
      "2     03.2017          3      16927          3        NaN        NaN   \n",
      "3     04.2017          4      17647          4        NaN        NaN   \n",
      "4     05.2017          5      18808          5        NaN        NaN   \n",
      "5     06.2017          6      19000          6        NaN        NaN   \n",
      "6     10.2016          7      19340          7        NaN        NaN   \n",
      "7     11.2016          8      19769          8        NaN        NaN   \n",
      "8     12.2016          9      20166          9        NaN        NaN   \n",
      "9         NaN        NaN      20891         11        NaN        NaN   \n",
      "10        NaN        NaN      22117         12        NaN        NaN   \n",
      "11        NaN        NaN      23623         13        NaN        NaN   \n",
      "12        NaN        NaN      29650         14        NaN        NaN   \n",
      "13        NaN        NaN      32949         15        NaN        NaN   \n",
      "14        NaN        NaN      34378         16        NaN        NaN   \n",
      "15        NaN        NaN      38560         17        NaN        NaN   \n",
      "16        NaN        NaN      38976         18        NaN        NaN   \n",
      "17        NaN        NaN      42367        NaN        NaN        NaN   \n",
      "18        NaN        NaN      45583        NaN        NaN        NaN   \n",
      "19        NaN        NaN      63354        NaN        NaN        NaN   \n",
      "20        NaN        NaN      64983        NaN        NaN        NaN   \n",
      "21        NaN        NaN      71991        NaN        NaN        NaN   \n",
      "22        NaN        NaN      73422        NaN        NaN        NaN   \n",
      "23        NaN        NaN      73762        NaN        NaN        NaN   \n",
      "24        NaN        NaN      73949        NaN        NaN        NaN   \n",
      "25        NaN        NaN      76852        NaN        NaN        NaN   \n",
      "26        NaN        NaN      77348        NaN        NaN        NaN   \n",
      "27        NaN        NaN      78325        NaN        NaN        NaN   \n",
      "28        NaN        NaN      78450        NaN        NaN        NaN   \n",
      "29        NaN        NaN      79785        NaN        NaN        NaN   \n",
      "30        NaN        NaN      81473        NaN        NaN        NaN   \n",
      "31        NaN        NaN      83160        NaN        NaN        NaN   \n",
      "32        NaN        NaN      85124        NaN        NaN        NaN   \n",
      "33        NaN        NaN      85321        NaN        NaN        NaN   \n",
      "34        NaN        NaN      85696        NaN        NaN        NaN   \n",
      "35        NaN        NaN      86089        NaN        NaN        NaN   \n",
      "36        NaN        NaN      86208        NaN        NaN        NaN   \n",
      "37        NaN        NaN      87703        NaN        NaN        NaN   \n",
      "38        NaN        NaN      88253        NaN        NaN        NaN   \n",
      "39        NaN        NaN      88750        NaN        NaN        NaN   \n",
      "40        NaN        NaN      88994        NaN        NaN        NaN   \n",
      "41        NaN        NaN      90992        NaN        NaN        NaN   \n",
      "42        NaN        NaN      91973        NaN        NaN        NaN   \n",
      "43        NaN        NaN      93033        NaN        NaN        NaN   \n",
      "44        NaN        NaN      94153        NaN        NaN        NaN   \n",
      "45        NaN        NaN      94882        NaN        NaN        NaN   \n",
      "46        NaN        NaN      95434        NaN        NaN        NaN   \n",
      "47        NaN        NaN      96493        NaN        NaN        NaN   \n",
      "48        NaN        NaN      96857        NaN        NaN        NaN   \n",
      "49        NaN        NaN      98422        NaN        NaN        NaN   \n",
      "\n",
      "   Unnamed: 9 Unnamed: 10  \n",
      "0           0           0  \n",
      "1         NaN         NaN  \n",
      "2         NaN         NaN  \n",
      "3         NaN         NaN  \n",
      "4         NaN         NaN  \n",
      "5         NaN         NaN  \n",
      "6         NaN         NaN  \n",
      "7         NaN         NaN  \n",
      "8         NaN         NaN  \n",
      "9         NaN         NaN  \n",
      "10        NaN         NaN  \n",
      "11        NaN         NaN  \n",
      "12        NaN         NaN  \n",
      "13        NaN         NaN  \n",
      "14        NaN         NaN  \n",
      "15        NaN         NaN  \n",
      "16        NaN         NaN  \n",
      "17        NaN         NaN  \n",
      "18        NaN         NaN  \n",
      "19        NaN         NaN  \n",
      "20        NaN         NaN  \n",
      "21        NaN         NaN  \n",
      "22        NaN         NaN  \n",
      "23        NaN         NaN  \n",
      "24        NaN         NaN  \n",
      "25        NaN         NaN  \n",
      "26        NaN         NaN  \n",
      "27        NaN         NaN  \n",
      "28        NaN         NaN  \n",
      "29        NaN         NaN  \n",
      "30        NaN         NaN  \n",
      "31        NaN         NaN  \n",
      "32        NaN         NaN  \n",
      "33        NaN         NaN  \n",
      "34        NaN         NaN  \n",
      "35        NaN         NaN  \n",
      "36        NaN         NaN  \n",
      "37        NaN         NaN  \n",
      "38        NaN         NaN  \n",
      "39        NaN         NaN  \n",
      "40        NaN         NaN  \n",
      "41        NaN         NaN  \n",
      "42        NaN         NaN  \n",
      "43        NaN         NaN  \n",
      "44        NaN         NaN  \n",
      "45        NaN         NaN  \n",
      "46        NaN         NaN  \n",
      "47        NaN         NaN  \n",
      "48        NaN         NaN  \n",
      "49        NaN         NaN  \n"
     ]
    }
   ],
   "source": [
    "print(data3.mode())"
   ]
  },
  {
   "cell_type": "code",
   "execution_count": 165,
   "id": "de95e32c",
   "metadata": {},
   "outputs": [
    {
     "name": "stdout",
     "output_type": "stream",
     "text": [
      "Unnamed: 0     10.201610.201610.201610.201610.201610.201610.2...\n",
      "Unnamed: 1                                                 38250\n",
      "Unnamed: 3                                             474263433\n",
      "Unnamed: 5                                                 72450\n",
      "Unnamed: 8                                                168576\n",
      "Unnamed: 9                                            8235000965\n",
      "Unnamed: 10                                          28468656015\n",
      "dtype: object\n"
     ]
    },
    {
     "name": "stderr",
     "output_type": "stream",
     "text": [
      "/var/folders/kc/f_2rv2sn30780xky6ysplv4c0000gn/T/ipykernel_2063/1211309486.py:1: FutureWarning: The default value of numeric_only in DataFrame.sum is deprecated. In a future version, it will default to False. In addition, specifying 'numeric_only=None' is deprecated. Select only valid columns or specify the value of numeric_only to silence this warning.\n",
      "  print(data3.sum())\n"
     ]
    }
   ],
   "source": [
    "print(data3.sum())"
   ]
  },
  {
   "cell_type": "code",
   "execution_count": 173,
   "id": "860efc5b",
   "metadata": {},
   "outputs": [
    {
     "data": {
      "text/html": [
       "<div>\n",
       "<style scoped>\n",
       "    .dataframe tbody tr th:only-of-type {\n",
       "        vertical-align: middle;\n",
       "    }\n",
       "\n",
       "    .dataframe tbody tr th {\n",
       "        vertical-align: top;\n",
       "    }\n",
       "\n",
       "    .dataframe thead th {\n",
       "        text-align: right;\n",
       "    }\n",
       "</style>\n",
       "<table border=\"1\" class=\"dataframe\">\n",
       "  <thead>\n",
       "    <tr style=\"text-align: right;\">\n",
       "      <th></th>\n",
       "      <th>Unnamed: 0</th>\n",
       "      <th>Unnamed: 1</th>\n",
       "      <th>Unnamed: 3</th>\n",
       "      <th>Unnamed: 5</th>\n",
       "      <th>Unnamed: 7</th>\n",
       "      <th>Unnamed: 8</th>\n",
       "      <th>Unnamed: 9</th>\n",
       "      <th>Unnamed: 10</th>\n",
       "    </tr>\n",
       "  </thead>\n",
       "  <tbody>\n",
       "    <tr>\n",
       "      <th>1</th>\n",
       "      <td>10.2016</td>\n",
       "      <td>1.0</td>\n",
       "      <td>88253.0</td>\n",
       "      <td>1.0</td>\n",
       "      <td>3184.764</td>\n",
       "      <td>0.0</td>\n",
       "      <td>398560.0</td>\n",
       "      <td>1226244.0</td>\n",
       "    </tr>\n",
       "    <tr>\n",
       "      <th>2</th>\n",
       "      <td>10.2016</td>\n",
       "      <td>1.0</td>\n",
       "      <td>88253.0</td>\n",
       "      <td>2.0</td>\n",
       "      <td>1582.941</td>\n",
       "      <td>0.0</td>\n",
       "      <td>82725.0</td>\n",
       "      <td>387810.0</td>\n",
       "    </tr>\n",
       "    <tr>\n",
       "      <th>3</th>\n",
       "      <td>10.2016</td>\n",
       "      <td>1.0</td>\n",
       "      <td>88253.0</td>\n",
       "      <td>3.0</td>\n",
       "      <td>47.205</td>\n",
       "      <td>0.0</td>\n",
       "      <td>438400.0</td>\n",
       "      <td>654657.0</td>\n",
       "    </tr>\n",
       "    <tr>\n",
       "      <th>4</th>\n",
       "      <td>10.2016</td>\n",
       "      <td>1.0</td>\n",
       "      <td>88253.0</td>\n",
       "      <td>4.0</td>\n",
       "      <td>1623.852</td>\n",
       "      <td>0.0</td>\n",
       "      <td>309425.0</td>\n",
       "      <td>499434.0</td>\n",
       "    </tr>\n",
       "    <tr>\n",
       "      <th>5</th>\n",
       "      <td>10.2016</td>\n",
       "      <td>1.0</td>\n",
       "      <td>88253.0</td>\n",
       "      <td>5.0</td>\n",
       "      <td>1759.173</td>\n",
       "      <td>0.0</td>\n",
       "      <td>165515.0</td>\n",
       "      <td>329397.0</td>\n",
       "    </tr>\n",
       "    <tr>\n",
       "      <th>...</th>\n",
       "      <td>...</td>\n",
       "      <td>...</td>\n",
       "      <td>...</td>\n",
       "      <td>...</td>\n",
       "      <td>...</td>\n",
       "      <td>...</td>\n",
       "      <td>...</td>\n",
       "      <td>...</td>\n",
       "    </tr>\n",
       "    <tr>\n",
       "      <th>7654</th>\n",
       "      <td>06.2017</td>\n",
       "      <td>9.0</td>\n",
       "      <td>29650.0</td>\n",
       "      <td>12.0</td>\n",
       "      <td>6322.323</td>\n",
       "      <td>0.0</td>\n",
       "      <td>3886530.0</td>\n",
       "      <td>14538825.0</td>\n",
       "    </tr>\n",
       "    <tr>\n",
       "      <th>7655</th>\n",
       "      <td>06.2017</td>\n",
       "      <td>9.0</td>\n",
       "      <td>29650.0</td>\n",
       "      <td>16.0</td>\n",
       "      <td>4270.479</td>\n",
       "      <td>0.0</td>\n",
       "      <td>245.0</td>\n",
       "      <td>0.0</td>\n",
       "    </tr>\n",
       "    <tr>\n",
       "      <th>7656</th>\n",
       "      <td>06.2017</td>\n",
       "      <td>9.0</td>\n",
       "      <td>29650.0</td>\n",
       "      <td>11.0</td>\n",
       "      <td>0</td>\n",
       "      <td>0.0</td>\n",
       "      <td>0.0</td>\n",
       "      <td>0.0</td>\n",
       "    </tr>\n",
       "    <tr>\n",
       "      <th>7657</th>\n",
       "      <td>06.2017</td>\n",
       "      <td>9.0</td>\n",
       "      <td>29650.0</td>\n",
       "      <td>17.0</td>\n",
       "      <td>2224.929</td>\n",
       "      <td>0.0</td>\n",
       "      <td>245.0</td>\n",
       "      <td>0.0</td>\n",
       "    </tr>\n",
       "    <tr>\n",
       "      <th>7658</th>\n",
       "      <td>06.2017</td>\n",
       "      <td>9.0</td>\n",
       "      <td>29650.0</td>\n",
       "      <td>18.0</td>\n",
       "      <td>39652.2</td>\n",
       "      <td>0.0</td>\n",
       "      <td>3886530.0</td>\n",
       "      <td>15056214.0</td>\n",
       "    </tr>\n",
       "  </tbody>\n",
       "</table>\n",
       "<p>7658 rows × 8 columns</p>\n",
       "</div>"
      ],
      "text/plain": [
       "     Unnamed: 0  Unnamed: 1  Unnamed: 3  Unnamed: 5 Unnamed: 7  Unnamed: 8  \\\n",
       "1       10.2016         1.0     88253.0         1.0   3184.764         0.0   \n",
       "2       10.2016         1.0     88253.0         2.0   1582.941         0.0   \n",
       "3       10.2016         1.0     88253.0         3.0     47.205         0.0   \n",
       "4       10.2016         1.0     88253.0         4.0   1623.852         0.0   \n",
       "5       10.2016         1.0     88253.0         5.0   1759.173         0.0   \n",
       "...         ...         ...         ...         ...        ...         ...   \n",
       "7654    06.2017         9.0     29650.0        12.0   6322.323         0.0   \n",
       "7655    06.2017         9.0     29650.0        16.0   4270.479         0.0   \n",
       "7656    06.2017         9.0     29650.0        11.0          0         0.0   \n",
       "7657    06.2017         9.0     29650.0        17.0   2224.929         0.0   \n",
       "7658    06.2017         9.0     29650.0        18.0    39652.2         0.0   \n",
       "\n",
       "      Unnamed: 9  Unnamed: 10  \n",
       "1       398560.0    1226244.0  \n",
       "2        82725.0     387810.0  \n",
       "3       438400.0     654657.0  \n",
       "4       309425.0     499434.0  \n",
       "5       165515.0     329397.0  \n",
       "...          ...          ...  \n",
       "7654   3886530.0   14538825.0  \n",
       "7655       245.0          0.0  \n",
       "7656         0.0          0.0  \n",
       "7657       245.0          0.0  \n",
       "7658   3886530.0   15056214.0  \n",
       "\n",
       "[7658 rows x 8 columns]"
      ]
     },
     "execution_count": 173,
     "metadata": {},
     "output_type": "execute_result"
    }
   ],
   "source": [
    "data3=data3.fillna(data3.mode())\n",
    "data3"
   ]
  },
  {
   "cell_type": "code",
   "execution_count": 168,
   "id": "44d47148",
   "metadata": {},
   "outputs": [
    {
     "name": "stdout",
     "output_type": "stream",
     "text": [
      "Unnamed: 0     7658\n",
      "Unnamed: 1     7658\n",
      "Unnamed: 3     7658\n",
      "Unnamed: 5     7658\n",
      "Unnamed: 7     7650\n",
      "Unnamed: 8     7658\n",
      "Unnamed: 9     7658\n",
      "Unnamed: 10    7658\n",
      "dtype: int64\n"
     ]
    }
   ],
   "source": [
    "print(data3.count())"
   ]
  },
  {
   "cell_type": "code",
   "execution_count": 169,
   "id": "8f4dab80",
   "metadata": {},
   "outputs": [
    {
     "name": "stdout",
     "output_type": "stream",
     "text": [
      "Unnamed: 0      - - - - \n",
      "Unnamed: 1           1.0\n",
      "Unnamed: 3       12227.0\n",
      "Unnamed: 5           1.0\n",
      "Unnamed: 8           0.0\n",
      "Unnamed: 9           0.0\n",
      "Unnamed: 10          0.0\n",
      "dtype: object\n"
     ]
    },
    {
     "name": "stderr",
     "output_type": "stream",
     "text": [
      "/var/folders/kc/f_2rv2sn30780xky6ysplv4c0000gn/T/ipykernel_2063/2281988992.py:1: FutureWarning: The default value of numeric_only in DataFrame.min is deprecated. In a future version, it will default to False. In addition, specifying 'numeric_only=None' is deprecated. Select only valid columns or specify the value of numeric_only to silence this warning.\n",
      "  print(data3.min())\n"
     ]
    }
   ],
   "source": [
    "print(data3.min())"
   ]
  },
  {
   "cell_type": "code",
   "execution_count": 170,
   "id": "cd6ce6be",
   "metadata": {},
   "outputs": [
    {
     "name": "stdout",
     "output_type": "stream",
     "text": [
      "Unnamed: 0        12.2016\n",
      "Unnamed: 1            9.0\n",
      "Unnamed: 3        98422.0\n",
      "Unnamed: 5           18.0\n",
      "Unnamed: 8         3984.0\n",
      "Unnamed: 9     11242955.0\n",
      "Unnamed: 10    42717390.0\n",
      "dtype: object\n"
     ]
    },
    {
     "name": "stderr",
     "output_type": "stream",
     "text": [
      "/var/folders/kc/f_2rv2sn30780xky6ysplv4c0000gn/T/ipykernel_2063/2827393065.py:1: FutureWarning: The default value of numeric_only in DataFrame.max is deprecated. In a future version, it will default to False. In addition, specifying 'numeric_only=None' is deprecated. Select only valid columns or specify the value of numeric_only to silence this warning.\n",
      "  print(data3.max())\n"
     ]
    }
   ],
   "source": [
    "print(data3.max())"
   ]
  },
  {
   "cell_type": "code",
   "execution_count": 259,
   "id": "70411719",
   "metadata": {},
   "outputs": [
    {
     "name": "stdout",
     "output_type": "stream",
     "text": [
      "Requirement already satisfied: scipy in ./anaconda3/lib/python3.11/site-packages (1.10.1)\n",
      "Requirement already satisfied: numpy<1.27.0,>=1.19.5 in ./anaconda3/lib/python3.11/site-packages (from scipy) (1.24.3)\n",
      "Note: you may need to restart the kernel to use updated packages.\n"
     ]
    }
   ],
   "source": [
    "pip install scipy"
   ]
  },
  {
   "cell_type": "code",
   "execution_count": 179,
   "id": "3c36be24",
   "metadata": {},
   "outputs": [
    {
     "name": "stdout",
     "output_type": "stream",
     "text": [
      "PearsonRResult(statistic=6.7132880820712266e-18, pvalue=1.0000000000000004)\n"
     ]
    }
   ],
   "source": [
    "from scipy.stats import pearsonr\n",
    "#df3=data3\n",
    "corr2=pearsonr(data3[\"Unnamed: 1\"],data3[\"Unnamed: 5\"])\n",
    "print(corr2)"
   ]
  },
  {
   "cell_type": "code",
   "execution_count": 181,
   "id": "ac31e7da",
   "metadata": {},
   "outputs": [
    {
     "name": "stdout",
     "output_type": "stream",
     "text": [
      "SignificanceResult(statistic=0.0, pvalue=1.0)\n"
     ]
    }
   ],
   "source": [
    "from scipy.stats import spearmanr\n",
    "#df3=data3\n",
    "corr2=spearmanr(data3[\"Unnamed: 1\"],data3[\"Unnamed: 5\"])\n",
    "print(corr2)"
   ]
  },
  {
   "cell_type": "code",
   "execution_count": null,
   "id": "7e6178f3",
   "metadata": {},
   "outputs": [],
   "source": []
  }
 ],
 "metadata": {
  "kernelspec": {
   "display_name": "Python 3 (ipykernel)",
   "language": "python",
   "name": "python3"
  },
  "language_info": {
   "codemirror_mode": {
    "name": "ipython",
    "version": 3
   },
   "file_extension": ".py",
   "mimetype": "text/x-python",
   "name": "python",
   "nbconvert_exporter": "python",
   "pygments_lexer": "ipython3",
   "version": "3.11.4"
  }
 },
 "nbformat": 4,
 "nbformat_minor": 5
}
